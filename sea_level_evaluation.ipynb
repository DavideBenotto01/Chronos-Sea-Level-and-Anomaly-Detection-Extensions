{
  "cells": [
    {
      "cell_type": "code",
      "execution_count": 1,
      "metadata": {
        "id": "jLNyYpwWhmiL",
        "colab": {
          "base_uri": "https://localhost:8080/"
        },
        "outputId": "6ef3cffd-458b-45ff-fc9a-1d9f760b0211"
      },
      "outputs": [
        {
          "output_type": "stream",
          "name": "stdout",
          "text": [
            "  Preparing metadata (setup.py) ... \u001b[?25l\u001b[?25hdone\n",
            "\u001b[2K   \u001b[90m━━━━━━━━━━━━━━━━━━━━━━━━━━━━━━━━━━━━━━━━\u001b[0m \u001b[32m84.1/84.1 kB\u001b[0m \u001b[31m8.0 MB/s\u001b[0m eta \u001b[36m0:00:00\u001b[0m\n",
            "\u001b[2K   \u001b[90m━━━━━━━━━━━━━━━━━━━━━━━━━━━━━━━━━━━━━━━━\u001b[0m \u001b[32m1.5/1.5 MB\u001b[0m \u001b[31m72.0 MB/s\u001b[0m eta \u001b[36m0:00:00\u001b[0m\n",
            "\u001b[2K   \u001b[90m━━━━━━━━━━━━━━━━━━━━━━━━━━━━━━━━━━━━━━━━\u001b[0m \u001b[32m363.4/363.4 MB\u001b[0m \u001b[31m5.0 MB/s\u001b[0m eta \u001b[36m0:00:00\u001b[0m\n",
            "\u001b[2K   \u001b[90m━━━━━━━━━━━━━━━━━━━━━━━━━━━━━━━━━━━━━━━━\u001b[0m \u001b[32m13.8/13.8 MB\u001b[0m \u001b[31m128.1 MB/s\u001b[0m eta \u001b[36m0:00:00\u001b[0m\n",
            "\u001b[2K   \u001b[90m━━━━━━━━━━━━━━━━━━━━━━━━━━━━━━━━━━━━━━━━\u001b[0m \u001b[32m24.6/24.6 MB\u001b[0m \u001b[31m103.0 MB/s\u001b[0m eta \u001b[36m0:00:00\u001b[0m\n",
            "\u001b[2K   \u001b[90m━━━━━━━━━━━━━━━━━━━━━━━━━━━━━━━━━━━━━━━━\u001b[0m \u001b[32m883.7/883.7 kB\u001b[0m \u001b[31m47.8 MB/s\u001b[0m eta \u001b[36m0:00:00\u001b[0m\n",
            "\u001b[2K   \u001b[90m━━━━━━━━━━━━━━━━━━━━━━━━━━━━━━━━━━━━━━━━\u001b[0m \u001b[32m664.8/664.8 MB\u001b[0m \u001b[31m1.7 MB/s\u001b[0m eta \u001b[36m0:00:00\u001b[0m\n",
            "\u001b[2K   \u001b[90m━━━━━━━━━━━━━━━━━━━━━━━━━━━━━━━━━━━━━━━━\u001b[0m \u001b[32m211.5/211.5 MB\u001b[0m \u001b[31m11.7 MB/s\u001b[0m eta \u001b[36m0:00:00\u001b[0m\n",
            "\u001b[2K   \u001b[90m━━━━━━━━━━━━━━━━━━━━━━━━━━━━━━━━━━━━━━━━\u001b[0m \u001b[32m56.3/56.3 MB\u001b[0m \u001b[31m43.1 MB/s\u001b[0m eta \u001b[36m0:00:00\u001b[0m\n",
            "\u001b[2K   \u001b[90m━━━━━━━━━━━━━━━━━━━━━━━━━━━━━━━━━━━━━━━━\u001b[0m \u001b[32m127.9/127.9 MB\u001b[0m \u001b[31m19.5 MB/s\u001b[0m eta \u001b[36m0:00:00\u001b[0m\n",
            "\u001b[2K   \u001b[90m━━━━━━━━━━━━━━━━━━━━━━━━━━━━━━━━━━━━━━━━\u001b[0m \u001b[32m207.5/207.5 MB\u001b[0m \u001b[31m4.8 MB/s\u001b[0m eta \u001b[36m0:00:00\u001b[0m\n",
            "\u001b[2K   \u001b[90m━━━━━━━━━━━━━━━━━━━━━━━━━━━━━━━━━━━━━━━━\u001b[0m \u001b[32m21.1/21.1 MB\u001b[0m \u001b[31m102.4 MB/s\u001b[0m eta \u001b[36m0:00:00\u001b[0m\n",
            "\u001b[2K   \u001b[90m━━━━━━━━━━━━━━━━━━━━━━━━━━━━━━━━━━━━━━━━\u001b[0m \u001b[32m340.0/340.0 kB\u001b[0m \u001b[31m33.0 MB/s\u001b[0m eta \u001b[36m0:00:00\u001b[0m\n",
            "\u001b[2K   \u001b[90m━━━━━━━━━━━━━━━━━━━━━━━━━━━━━━━━━━━━━━━━\u001b[0m \u001b[32m285.8/285.8 kB\u001b[0m \u001b[31m27.2 MB/s\u001b[0m eta \u001b[36m0:00:00\u001b[0m\n",
            "\u001b[2K   \u001b[90m━━━━━━━━━━━━━━━━━━━━━━━━━━━━━━━━━━━━━━━━\u001b[0m \u001b[32m278.2/278.2 kB\u001b[0m \u001b[31m21.9 MB/s\u001b[0m eta \u001b[36m0:00:00\u001b[0m\n",
            "\u001b[2K   \u001b[90m━━━━━━━━━━━━━━━━━━━━━━━━━━━━━━━━━━━━━━━━\u001b[0m \u001b[32m42.2/42.2 kB\u001b[0m \u001b[31m4.2 MB/s\u001b[0m eta \u001b[36m0:00:00\u001b[0m\n",
            "\u001b[2K   \u001b[90m━━━━━━━━━━━━━━━━━━━━━━━━━━━━━━━━━━━━━━━━\u001b[0m \u001b[32m62.3/62.3 kB\u001b[0m \u001b[31m7.1 MB/s\u001b[0m eta \u001b[36m0:00:00\u001b[0m\n",
            "\u001b[2K   \u001b[90m━━━━━━━━━━━━━━━━━━━━━━━━━━━━━━━━━━━━━━━━\u001b[0m \u001b[32m135.3/135.3 kB\u001b[0m \u001b[31m14.6 MB/s\u001b[0m eta \u001b[36m0:00:00\u001b[0m\n",
            "\u001b[?25h  Building wheel for chronos (setup.py) ... \u001b[?25l\u001b[?25hdone\n"
          ]
        }
      ],
      "source": [
        "%pip install -q datasets evaluate pyyaml gluonts torch transformers accelerate chronos chronos-forecasting statsforecast cdsapi"
      ]
    },
    {
      "cell_type": "markdown",
      "metadata": {
        "id": "DJNUbAitgN8z"
      },
      "source": [
        "## Dataset of sea level (*https://www.star.nesdis.noaa.gov/socd/lsa/SeaLevelRise/LSA_SLR_timeseries.php*)"
      ]
    },
    {
      "cell_type": "code",
      "execution_count": 10,
      "metadata": {
        "id": "rd4Q7MTigLRj"
      },
      "outputs": [],
      "source": [
        "import random\n",
        "import numpy as np\n",
        "import pandas as pd\n",
        "import matplotlib.pyplot as plt\n",
        "import seaborn as sns\n",
        "import os\n",
        "import re\n",
        "import torch\n",
        "import sys\n",
        "from datetime import datetime, timedelta\n",
        "from distutils.util import strtobool\n",
        "from statsforecast import StatsForecast\n",
        "from statsforecast.models import SeasonalNaive, Naive, AutoARIMA\n",
        "from gluonts.ev.metrics import MASE, MeanWeightedSumQuantileLoss\n",
        "from gluonts.model.evaluation import evaluate_forecasts\n",
        "from gluonts.dataset.split import split\n",
        "from gluonts.model.forecast import SampleForecast, QuantileForecast\n",
        "from gluonts.evaluation import Evaluator\n",
        "from gluonts.dataset.common import ListDataset\n",
        "from tqdm.auto import tqdm"
      ]
    },
    {
      "cell_type": "code",
      "execution_count": 11,
      "metadata": {
        "colab": {
          "base_uri": "https://localhost:8080/"
        },
        "id": "zhTh0VHjgqTG",
        "outputId": "a94c36f9-c5ac-409e-9460-c2838d9a9367"
      },
      "outputs": [
        {
          "output_type": "stream",
          "name": "stdout",
          "text": [
            "Mounted at /content/drive\n"
          ]
        }
      ],
      "source": [
        "from google.colab import drive\n",
        "drive.mount('/content/drive', force_remount=True)"
      ]
    },
    {
      "cell_type": "code",
      "execution_count": 12,
      "metadata": {
        "colab": {
          "base_uri": "https://localhost:8080/",
          "height": 472
        },
        "id": "4TBgYBtzg4Io",
        "outputId": "54fffe8e-ae93-4454-9709-512de850053d"
      },
      "outputs": [
        {
          "output_type": "display_data",
          "data": {
            "text/plain": [
              "<Figure size 640x480 with 1 Axes>"
            ],
            "image/png": "[encoded data removed]"
          },
          "metadata": {}
        }
      ],
      "source": [
        "# Load the CSV, skipping the first 6 rows (metadata/header info)\n",
        "df = pd.read_csv(\"/content/drive/MyDrive/dataset/Dataset_sea_level_extension/DATASET_NATURE_ARTICLE/global_mean_sea_level/slr_sla_gbl_keep_all_66.csv\", skiprows=6)\n",
        "\n",
        "# Rename the first column to 'time' for clarity\n",
        "df.rename(columns={df.columns[0]: \"time\"}, inplace=True)\n",
        "\n",
        "# Compute the mean value per row (ignoring NaNs), excluding the first column\n",
        "df[\"sea_level_altitude\"] = df.iloc[:, 1:].mean(axis=1, skipna=True)\n",
        "\n",
        "# Create the final DataFrame with only the required columns\n",
        "final_global_mean_df = df[[\"time\", \"sea_level_altitude\"]]\n",
        "\n",
        "# Plotting\n",
        "plt.ylabel(\"mm\")\n",
        "plt.xlabel(\"Year\")\n",
        "plt.grid()\n",
        "plt.plot(final_global_mean_df[\"time\"], final_global_mean_df[\"sea_level_altitude\"])\n",
        "plt.title(\"(global trend mean of sea level)\")\n",
        "plt.show()"
      ]
    },
    {
      "cell_type": "code",
      "execution_count": 13,
      "metadata": {
        "colab": {
          "base_uri": "https://localhost:8080/"
        },
        "id": "IYH7X96mkwqV",
        "outputId": "a18c6254-2525-4b64-d572-7d3b77f0fa59"
      },
      "outputs": [
        {
          "output_type": "execute_result",
          "data": {
            "text/plain": [
              "['ATLANTIC_OCEAN',\n",
              " 'BALTIC_SEA',\n",
              " 'GULF_of_AMERICA',\n",
              " 'ANDAMAN_SEA',\n",
              " 'BERING_SEA',\n",
              " 'BAY_OF_BENGALS',\n",
              " 'INDIAN_OCEAN',\n",
              " 'ADRIATIC_SEA',\n",
              " 'ARABIAN_SEA',\n",
              " 'CARIBBEAN_SEA',\n",
              " 'SEA_of_OKHOTSK',\n",
              " 'PERSIAN_GULF',\n",
              " 'NORTH_SEA',\n",
              " 'SEA_of_JAPAN',\n",
              " 'INDONESIAN',\n",
              " 'PACIFIC_OCEAN',\n",
              " 'MEDITERRANEAN_SEA',\n",
              " 'NORTH_PACIFIC_OCEAN',\n",
              " 'NORTH_ATLANTIC_OCEAN',\n",
              " 'TROPICS',\n",
              " 'SOUTH_CHINA_SEA',\n",
              " 'YELLOW_SEA']"
            ]
          },
          "metadata": {},
          "execution_count": 13
        }
      ],
      "source": [
        "sea_list = [sea for sea in os.listdir(\"/content/drive/MyDrive/dataset/Dataset_sea_level_extension/DATASET_NATURE_ARTICLE/SEA_TAKEN_SINGULARLY\")]\n",
        "sea_list"
      ]
    },
    {
      "cell_type": "code",
      "execution_count": 14,
      "metadata": {
        "id": "2OF2cqDJoOYJ"
      },
      "outputs": [],
      "source": [
        "# sea: one of the folders printed above\n",
        "# keep_seasonality: whether to keep seasonal signals -> True or remove them -> False\n",
        "# inside_66: if True, only takes sea level measurements between -66° & 66°\n",
        "def clean_data_by_the_sea(sea: str, keep_seasonality=True, inside_66=True):\n",
        "    sea_folder_path = \"/content/drive/MyDrive/dataset/Dataset_sea_level_extension/DATASET_NATURE_ARTICLE/SEA_TAKEN_SINGULARLY/\" + sea + \"/\"\n",
        "    csv_list = [csv for csv in os.listdir(sea_folder_path)]\n",
        "    csv = \"\"\n",
        "\n",
        "    if inside_66:\n",
        "        csv_list = [csv for csv in csv_list if csv.endswith(\"66.csv\")]\n",
        "        if keep_seasonality:\n",
        "            csv_list = [csv for csv in csv_list if \"keep\" in csv]\n",
        "            csv = sea_folder_path + csv_list[0]\n",
        "        else:\n",
        "            csv_list = [csv for csv in csv_list if \"free\" in csv]\n",
        "            csv = sea_folder_path + csv_list[0]\n",
        "    else:\n",
        "        csv_list = [csv for csv in csv_list if csv.endswith(\"90.csv\")]\n",
        "        if keep_seasonality:\n",
        "            csv_list = [csv for csv in csv_list if \"keep\" in csv]\n",
        "            csv = sea_folder_path + csv_list[0]\n",
        "        else:\n",
        "            csv_list = [csv for csv in csv_list if \"free\" in csv]\n",
        "            csv = sea_folder_path + csv_list[0]\n",
        "\n",
        "    # Load the CSV, skipping the first 6 rows (metadata)\n",
        "    df = pd.read_csv(csv, skiprows=6)\n",
        "\n",
        "    # Rename the first column to 'time' for clarity\n",
        "    df.rename(columns={df.columns[0]: \"time\"}, inplace=True)\n",
        "\n",
        "    # Compute the row-wise mean (ignoring NaNs), excluding the first column\n",
        "    df[\"sea_level_altitude\"] = df.iloc[:, 1:].mean(axis=1, skipna=True)\n",
        "\n",
        "    # Create the final DataFrame with only the required columns\n",
        "    final_sea_level_df = df[[\"time\", \"sea_level_altitude\"]]\n",
        "\n",
        "    return final_sea_level_df"
      ]
    },
    {
      "cell_type": "markdown",
      "metadata": {
        "id": "vQBM7A_99ba3"
      },
      "source": [
        "##### To see the different sea data, insert the name in the list  ['ATLANTIC_OCEAN', 'BALTIC_SEA', 'GULF_of_AMERICA', 'ANDAMAN_SEA', 'BERING_SEA', 'BAY_OF_BENGALS','INDIAN_OCEAN','ADRIATIC_SEA', 'ARABIAN_SEA', 'CARIBBEAN_SEA', 'SEA_of_OKHOTSK', 'PERSIAN_GULF', 'NORTH_SEA', 'SEA_of_JAPAN''INDONESIAN', 'PACIFIC_OCEAN', 'MEDITERRANEAN_SEA', 'NORTH_PACIFIC_OCEAN', 'NORTH_ATLANTIC_OCEAN', 'TROPICS', 'SOUTH_CHINA_SEA', 'YELLOW_SEA']"
      ]
    },
    {
      "cell_type": "code",
      "execution_count": 15,
      "metadata": {
        "id": "S7pMpn-ttLS1"
      },
      "outputs": [],
      "source": [
        "sea_df = clean_data_by_the_sea(\"BALTIC_SEA\")"
      ]
    },
    {
      "cell_type": "code",
      "execution_count": 16,
      "metadata": {
        "cellView": "code",
        "colab": {
          "base_uri": "https://localhost:8080/",
          "height": 391
        },
        "id": "lBnMINF80_fW",
        "outputId": "db8f6431-42c5-4642-de34-d9185a76d15f"
      },
      "outputs": [
        {
          "output_type": "display_data",
          "data": {
            "text/plain": [
              "<Figure size 800x400 with 1 Axes>"
            ],
            "image/png": "[encoded data removed]"
          },
          "metadata": {}
        }
      ],
      "source": [
        "# sea_level_altitude\n",
        "from matplotlib import pyplot as plt\n",
        "sea_df['sea_level_altitude'].plot(kind='line', figsize=(8, 4), title='sea_level_altitude')\n",
        "plt.gca().spines[['top', 'right']].set_visible(False)"
      ]
    },
    {
      "cell_type": "code",
      "source": [],
      "metadata": {
        "id": "eMCdcOysgrk4"
      },
      "execution_count": 16,
      "outputs": []
    },
    {
      "cell_type": "markdown",
      "metadata": {
        "id": "IG1bN4g308re"
      },
      "source": [
        "## Upload chronos method to see the forecasting"
      ]
    },
    {
      "cell_type": "code",
      "execution_count": 17,
      "metadata": {
        "id": "6JlKCZLO13Tv",
        "colab": {
          "base_uri": "https://localhost:8080/",
          "height": 240,
          "referenced_widgets": [
            "dba66dc8ed00434aa7f9cc52dfe56da3",
            "af41d6a00e534b8ea902f6f85d6c7b63",
            "613c955bdf8847eabf2d9af5b29405bd",
            "3db2f7cf8db64e00bfafd948efe40246",
            "ea05a83ebf90497387a7a7d5a350e5dc",
            "a08d3398d58a4561a67c79d416187da0",
            "34d88a5659ad4d70a4c259fbe02afc0b",
            "0f54dcb79a6a490db7c88bb6c01ede31",
            "98184d8ab0914cc48e5c52bc29944360",
            "cd6285e8b9594bebb9fca854e00a3449",
            "afbbb2b237f74a2c9455f45a62a6cead",
            "ee3431d69dc94ea8a338caf2fed6bb94",
            "b086222c68b849dfb8399fdc4db0a4b6",
            "a305863f4692418ca4f92b113f395dae",
            "1cb0527da3ec40e680b2c293264d34cc",
            "db965a41d8ec4027aafdf880226d1bc1",
            "03d4913abf5046f6875f9042f9c4578f",
            "493e43ff0e874fb480e5ebcae5134d91",
            "36b25cc10c5e4bc0968396892b374e20",
            "7b30ee20a97847b98fee4f078451c346",
            "066fa1c95ec849c49867d89b4715999f",
            "796718d2897b4bf5a2b11c29de698c0a",
            "c065b27a4a3644af82eb8d73749548ce",
            "034ffbb7e0124f9e905dfc04303229f1",
            "2187252dae3e44dfa67509f1f1f1cda3",
            "6390fa7d8c8c4b7dbe7e4a4a2c317b3c",
            "d40fffe55ead422891b894dbca10f645",
            "11649e2041aa48ecbea2d8c49f779651",
            "6765c2b61b9a4a53853a23e072631ca5",
            "cb09fd3f2eb84f41a8685485d1536f3f",
            "468d0d604f2047ee938c212ab94c7ded",
            "b6eff20e24c948378a4d264c5210d0ef",
            "fdc62f95ad964fe0a14fb3cc7fdbdbd8"
          ]
        },
        "outputId": "fbf39fd9-dde8-43a3-80fd-a29be5e56fee"
      },
      "outputs": [
        {
          "output_type": "stream",
          "name": "stderr",
          "text": [
            "/usr/local/lib/python3.11/dist-packages/huggingface_hub/utils/_auth.py:94: UserWarning: \n",
            "The secret `HF_TOKEN` does not exist in your Colab secrets.\n",
            "To authenticate with the Hugging Face Hub, create a token in your settings tab (https://huggingface.co/settings/tokens), set it as secret in your Google Colab and restart your session.\n",
            "You will be able to reuse this secret in all of your notebooks.\n",
            "Please note that authentication is recommended but still optional to access public models or datasets.\n",
            "  warnings.warn(\n"
          ]
        },
        {
          "output_type": "display_data",
          "data": {
            "text/plain": [
              "config.json: 0.00B [00:00, ?B/s]"
            ],
            "application/vnd.jupyter.widget-view+json": {
              "version_major": 2,
              "version_minor": 0,
              "model_id": "dba66dc8ed00434aa7f9cc52dfe56da3"
            }
          },
          "metadata": {}
        },
        {
          "output_type": "display_data",
          "data": {
            "text/plain": [
              "model.safetensors:   0%|          | 0.00/33.6M [00:00<?, ?B/s]"
            ],
            "application/vnd.jupyter.widget-view+json": {
              "version_major": 2,
              "version_minor": 0,
              "model_id": "ee3431d69dc94ea8a338caf2fed6bb94"
            }
          },
          "metadata": {}
        },
        {
          "output_type": "display_data",
          "data": {
            "text/plain": [
              "generation_config.json:   0%|          | 0.00/142 [00:00<?, ?B/s]"
            ],
            "application/vnd.jupyter.widget-view+json": {
              "version_major": 2,
              "version_minor": 0,
              "model_id": "c065b27a4a3644af82eb8d73749548ce"
            }
          },
          "metadata": {}
        }
      ],
      "source": [
        "# This is for prediction forecast\n",
        "from chronos.base import BaseChronosPipeline, ForecastType\n",
        "pipeline = BaseChronosPipeline.from_pretrained(\n",
        "    \"amazon/chronos-t5-tiny\",  # use \"amazon/chronos-bolt-small\" for the corresponding Chronos-Bolt model\n",
        "    device_map=\"cpu\",  # use \"cpu\" for CPU inference\n",
        "    torch_dtype=torch.bfloat16,\n",
        ")\n",
        "\n",
        "def plot_forecast(df, n_forecast=25, pipeline=pipeline, flag_quantiles=False):\n",
        "    \"\"\"\n",
        "    Plot forecast for a given time series using Chronos pipeline.\n",
        "\n",
        "    Args:\n",
        "        df (pd.Series or pd.DataFrame column): Time series data\n",
        "        n_forecast (int): Number of future time steps to predict\n",
        "        flag_quantiles (bool): If True, use quantile-based forecast instead of sampling\n",
        "    \"\"\"\n",
        "    df = df.reset_index(drop=True)\n",
        "\n",
        "    if len(df) <= n_forecast + 1:\n",
        "        raise ValueError(\"Data is too short for the requested forecast horizon.\")\n",
        "\n",
        "    # Remove last n_forecast points from the series to simulate forecasting\n",
        "    df_base = df[:-n_forecast].astype(float).to_numpy()\n",
        "    context = torch.tensor(df_base)\n",
        "\n",
        "    if flag_quantiles:\n",
        "        # Predict quantiles directly (0.1, 0.5, 0.9)\n",
        "        quantiles, _ = pipeline.predict_quantiles(\n",
        "            context=context,\n",
        "            prediction_length=n_forecast,\n",
        "            quantile_levels=[0.1, 0.5, 0.9],\n",
        "            limit_prediction_length=True,\n",
        "        )\n",
        "        low, median, high = quantiles[0, :, 0], quantiles[0, :, 1], quantiles[0, :, 2]\n",
        "    else:\n",
        "        # Sample forecast and compute quantiles from samples\n",
        "        forecast = pipeline.predict(\n",
        "            context,\n",
        "            prediction_length=n_forecast,\n",
        "            num_samples=25,\n",
        "            temperature=1.0,\n",
        "            top_k=50,\n",
        "            top_p=1.0,\n",
        "        )\n",
        "        low, median, high = np.quantile(forecast[0].numpy(), [0.1, 0.5, 0.9], axis=0)\n",
        "\n",
        "    # Build forecast index\n",
        "    forecast_index = range(len(df) - n_forecast, len(df))\n",
        "\n",
        "    # Append last real value to connect forecast with past\n",
        "    last_real_value = df.iloc[-n_forecast - 1]\n",
        "    last_real_index = len(df) - n_forecast - 1\n",
        "\n",
        "    # Extend median and confidence intervals\n",
        "    median_full = np.insert(median, 0, last_real_value)\n",
        "    low_full = np.insert(low, 0, last_real_value)\n",
        "    high_full = np.insert(high, 0, last_real_value)\n",
        "    forecast_index_full = np.insert(forecast_index, 0, last_real_index)\n",
        "\n",
        "    # Plotting\n",
        "    plt.figure(figsize=(16, 8))\n",
        "    plt.plot(df, color=\"royalblue\", label=\"historical data\")\n",
        "    plt.plot(forecast_index_full[:2], median_full[:2], color=\"tomato\", linestyle=\"dashed\")\n",
        "    plt.plot(forecast_index_full[1:], median_full[1:], color=\"tomato\", label=\"median forecast\")\n",
        "    plt.fill_between(forecast_index_full, low_full, high_full, color=\"tomato\", alpha=0.3, label=\"80% prediction interval\")\n",
        "\n",
        "    plt.title(\"Sea Level Forecast\")\n",
        "    plt.xlabel(\"Time Step\")\n",
        "    plt.ylabel(\"Sea Level\")\n",
        "    plt.legend()\n",
        "    plt.grid()\n",
        "    plt.show()"
      ]
    },
    {
      "cell_type": "code",
      "execution_count": 18,
      "metadata": {
        "colab": {
          "base_uri": "https://localhost:8080/",
          "height": 623
        },
        "id": "nKngsBSN7091",
        "outputId": "c49d2134-12cb-472b-9e7f-6c2ff8642e24"
      },
      "outputs": [
        {
          "output_type": "display_data",
          "data": {
            "text/plain": [
              "<Figure size 1600x800 with 1 Axes>"
            ],
            "image/png": "[encoded data removed]"
          },
          "metadata": {}
        }
      ],
      "source": [
        "plot_forecast(sea_df['sea_level_altitude'][1100:], pipeline=pipeline, n_forecast=50)"
      ]
    },
    {
      "cell_type": "code",
      "source": [
        "\"\"\"import os\n",
        "import pandas as pd\n",
        "\n",
        "# Directory dove salvare i CSV\n",
        "output_dir = \"/content/drive/MyDrive/outputto\"\n",
        "os.makedirs(output_dir, exist_ok=True)\n",
        "\n",
        "# Numero di punti da escludere alla fine\n",
        "cutoff = 48\n",
        "\n",
        "# Ciclo su ciascun mare\n",
        "for sea in sea_list:\n",
        "    try:\n",
        "        print(f\"🌊 Cleaning data for {sea}\")\n",
        "        df = clean_data_by_the_sea(sea, keep_seasonality=True, inside_66=False)\n",
        "\n",
        "        # Rimuovi gli ultimi 48 valori\n",
        "        cleaned_df = df[:-cutoff]\n",
        "\n",
        "        # Salva il DataFrame in CSV\n",
        "        filename = f\"{sea}_cleaned_outside_66.csv\"\n",
        "        output_path = os.path.join(output_dir, filename)\n",
        "        cleaned_df.to_csv(output_path, index=False)\n",
        "        print(f\"✅ Saved: {output_path}\")\n",
        "\n",
        "    except Exception as e:\n",
        "        print(f\"❌ Error processing {sea}: {e}\")\n",
        "\"\"\""
      ],
      "metadata": {
        "colab": {
          "base_uri": "https://localhost:8080/",
          "height": 125
        },
        "id": "JK5-NrsxjUqE",
        "outputId": "253ca3cb-7131-48c0-a8e8-2e7ba102f287"
      },
      "execution_count": 19,
      "outputs": [
        {
          "output_type": "execute_result",
          "data": {
            "text/plain": [
              "'import os\\nimport pandas as pd\\n\\n# Directory dove salvare i CSV\\noutput_dir = \"/content/drive/MyDrive/outputto\"\\nos.makedirs(output_dir, exist_ok=True)\\n\\n# Numero di punti da escludere alla fine\\ncutoff = 48\\n\\n# Ciclo su ciascun mare\\nfor sea in sea_list:\\n    try:\\n        print(f\"🌊 Cleaning data for {sea}\")\\n        df = clean_data_by_the_sea(sea, keep_seasonality=True, inside_66=False)\\n\\n        # Rimuovi gli ultimi 48 valori\\n        cleaned_df = df[:-cutoff]\\n\\n        # Salva il DataFrame in CSV\\n        filename = f\"{sea}_cleaned_outside_66.csv\"\\n        output_path = os.path.join(output_dir, filename)\\n        cleaned_df.to_csv(output_path, index=False)\\n        print(f\"✅ Saved: {output_path}\")\\n\\n    except Exception as e:\\n        print(f\"❌ Error processing {sea}: {e}\")\\n'"
            ],
            "application/vnd.google.colaboratory.intrinsic+json": {
              "type": "string"
            }
          },
          "metadata": {},
          "execution_count": 19
        }
      ]
    },
    {
      "cell_type": "markdown",
      "metadata": {
        "id": "EB4OzrpfcdD-"
      },
      "source": [
        "## In domain evaluation"
      ]
    },
    {
      "cell_type": "code",
      "execution_count": 20,
      "metadata": {
        "id": "iY1pXVtumqTW"
      },
      "outputs": [],
      "source": [
        "# Upload the right Chronos model\n",
        "pipeline = BaseChronosPipeline.from_pretrained(\n",
        "    \"amazon/chronos-t5-tiny\",  # use \"amazon/chronos-bolt-small\" for the corresponding Chronos-Bolt model\n",
        "    device_map=\"cpu\",  # use \"cpu\" for CPU inference\n",
        "    torch_dtype=torch.bfloat16,\n",
        ")"
      ]
    },
    {
      "cell_type": "code",
      "execution_count": 21,
      "metadata": {
        "id": "i9KH1BE3BgXY",
        "colab": {
          "base_uri": "https://localhost:8080/",
          "height": 1000
        },
        "outputId": "778889b8-0d68-41d4-a80d-8010c798b99a"
      },
      "outputs": [
        {
          "output_type": "stream",
          "name": "stdout",
          "text": [
            "\n",
            "🌊 Evaluating ATLANTIC_OCEAN\n"
          ]
        },
        {
          "output_type": "stream",
          "name": "stderr",
          "text": [
            "0it [00:00, ?it/s]/usr/local/lib/python3.11/dist-packages/gluonts/time_feature/seasonality.py:47: FutureWarning: 'M' is deprecated and will be removed in a future version, please use 'ME' instead.\n",
            "  offset = pd.tseries.frequencies.to_offset(freq)\n",
            "1it [00:00, 143.16it/s]\n"
          ]
        },
        {
          "output_type": "stream",
          "name": "stdout",
          "text": [
            "\n",
            "🌊 Evaluating BALTIC_SEA\n"
          ]
        },
        {
          "output_type": "stream",
          "name": "stderr",
          "text": [
            "0it [00:00, ?it/s]/usr/local/lib/python3.11/dist-packages/gluonts/time_feature/seasonality.py:47: FutureWarning: 'M' is deprecated and will be removed in a future version, please use 'ME' instead.\n",
            "  offset = pd.tseries.frequencies.to_offset(freq)\n",
            "1it [00:00, 167.08it/s]\n"
          ]
        },
        {
          "output_type": "stream",
          "name": "stdout",
          "text": [
            "\n",
            "🌊 Evaluating GULF_of_AMERICA\n"
          ]
        },
        {
          "output_type": "stream",
          "name": "stderr",
          "text": [
            "0it [00:00, ?it/s]/usr/local/lib/python3.11/dist-packages/gluonts/time_feature/seasonality.py:47: FutureWarning: 'M' is deprecated and will be removed in a future version, please use 'ME' instead.\n",
            "  offset = pd.tseries.frequencies.to_offset(freq)\n",
            "1it [00:00, 162.12it/s]\n"
          ]
        },
        {
          "output_type": "stream",
          "name": "stdout",
          "text": [
            "\n",
            "🌊 Evaluating ANDAMAN_SEA\n"
          ]
        },
        {
          "output_type": "stream",
          "name": "stderr",
          "text": [
            "0it [00:00, ?it/s]/usr/local/lib/python3.11/dist-packages/gluonts/time_feature/seasonality.py:47: FutureWarning: 'M' is deprecated and will be removed in a future version, please use 'ME' instead.\n",
            "  offset = pd.tseries.frequencies.to_offset(freq)\n",
            "1it [00:00, 176.95it/s]\n"
          ]
        },
        {
          "output_type": "stream",
          "name": "stdout",
          "text": [
            "\n",
            "🌊 Evaluating BERING_SEA\n"
          ]
        },
        {
          "output_type": "stream",
          "name": "stderr",
          "text": [
            "0it [00:00, ?it/s]/usr/local/lib/python3.11/dist-packages/gluonts/time_feature/seasonality.py:47: FutureWarning: 'M' is deprecated and will be removed in a future version, please use 'ME' instead.\n",
            "  offset = pd.tseries.frequencies.to_offset(freq)\n",
            "1it [00:00, 163.18it/s]\n"
          ]
        },
        {
          "output_type": "stream",
          "name": "stdout",
          "text": [
            "\n",
            "🌊 Evaluating BAY_OF_BENGALS\n"
          ]
        },
        {
          "output_type": "stream",
          "name": "stderr",
          "text": [
            "0it [00:00, ?it/s]/usr/local/lib/python3.11/dist-packages/gluonts/time_feature/seasonality.py:47: FutureWarning: 'M' is deprecated and will be removed in a future version, please use 'ME' instead.\n",
            "  offset = pd.tseries.frequencies.to_offset(freq)\n",
            "1it [00:00, 169.39it/s]\n"
          ]
        },
        {
          "output_type": "stream",
          "name": "stdout",
          "text": [
            "\n",
            "🌊 Evaluating INDIAN_OCEAN\n"
          ]
        },
        {
          "output_type": "stream",
          "name": "stderr",
          "text": [
            "0it [00:00, ?it/s]/usr/local/lib/python3.11/dist-packages/gluonts/time_feature/seasonality.py:47: FutureWarning: 'M' is deprecated and will be removed in a future version, please use 'ME' instead.\n",
            "  offset = pd.tseries.frequencies.to_offset(freq)\n",
            "1it [00:00, 179.35it/s]\n"
          ]
        },
        {
          "output_type": "stream",
          "name": "stdout",
          "text": [
            "\n",
            "🌊 Evaluating ADRIATIC_SEA\n"
          ]
        },
        {
          "output_type": "stream",
          "name": "stderr",
          "text": [
            "0it [00:00, ?it/s]/usr/local/lib/python3.11/dist-packages/gluonts/time_feature/seasonality.py:47: FutureWarning: 'M' is deprecated and will be removed in a future version, please use 'ME' instead.\n",
            "  offset = pd.tseries.frequencies.to_offset(freq)\n",
            "1it [00:00, 179.90it/s]\n"
          ]
        },
        {
          "output_type": "stream",
          "name": "stdout",
          "text": [
            "\n",
            "🌊 Evaluating ARABIAN_SEA\n"
          ]
        },
        {
          "output_type": "stream",
          "name": "stderr",
          "text": [
            "0it [00:00, ?it/s]/usr/local/lib/python3.11/dist-packages/gluonts/time_feature/seasonality.py:47: FutureWarning: 'M' is deprecated and will be removed in a future version, please use 'ME' instead.\n",
            "  offset = pd.tseries.frequencies.to_offset(freq)\n",
            "1it [00:00, 195.79it/s]\n"
          ]
        },
        {
          "output_type": "stream",
          "name": "stdout",
          "text": [
            "\n",
            "🌊 Evaluating CARIBBEAN_SEA\n"
          ]
        },
        {
          "output_type": "stream",
          "name": "stderr",
          "text": [
            "0it [00:00, ?it/s]/usr/local/lib/python3.11/dist-packages/gluonts/time_feature/seasonality.py:47: FutureWarning: 'M' is deprecated and will be removed in a future version, please use 'ME' instead.\n",
            "  offset = pd.tseries.frequencies.to_offset(freq)\n",
            "1it [00:00, 180.77it/s]\n"
          ]
        },
        {
          "output_type": "stream",
          "name": "stdout",
          "text": [
            "\n",
            "🌊 Evaluating SEA_of_OKHOTSK\n"
          ]
        },
        {
          "output_type": "stream",
          "name": "stderr",
          "text": [
            "0it [00:00, ?it/s]/usr/local/lib/python3.11/dist-packages/gluonts/time_feature/seasonality.py:47: FutureWarning: 'M' is deprecated and will be removed in a future version, please use 'ME' instead.\n",
            "  offset = pd.tseries.frequencies.to_offset(freq)\n",
            "1it [00:00, 170.59it/s]\n"
          ]
        },
        {
          "output_type": "stream",
          "name": "stdout",
          "text": [
            "\n",
            "🌊 Evaluating PERSIAN_GULF\n"
          ]
        },
        {
          "output_type": "stream",
          "name": "stderr",
          "text": [
            "0it [00:00, ?it/s]/usr/local/lib/python3.11/dist-packages/gluonts/time_feature/seasonality.py:47: FutureWarning: 'M' is deprecated and will be removed in a future version, please use 'ME' instead.\n",
            "  offset = pd.tseries.frequencies.to_offset(freq)\n",
            "1it [00:00, 169.61it/s]\n"
          ]
        },
        {
          "output_type": "stream",
          "name": "stdout",
          "text": [
            "\n",
            "🌊 Evaluating NORTH_SEA\n"
          ]
        },
        {
          "output_type": "stream",
          "name": "stderr",
          "text": [
            "0it [00:00, ?it/s]/usr/local/lib/python3.11/dist-packages/gluonts/time_feature/seasonality.py:47: FutureWarning: 'M' is deprecated and will be removed in a future version, please use 'ME' instead.\n",
            "  offset = pd.tseries.frequencies.to_offset(freq)\n",
            "1it [00:00, 176.84it/s]\n"
          ]
        },
        {
          "output_type": "stream",
          "name": "stdout",
          "text": [
            "\n",
            "🌊 Evaluating SEA_of_JAPAN\n"
          ]
        },
        {
          "output_type": "stream",
          "name": "stderr",
          "text": [
            "0it [00:00, ?it/s]/usr/local/lib/python3.11/dist-packages/gluonts/time_feature/seasonality.py:47: FutureWarning: 'M' is deprecated and will be removed in a future version, please use 'ME' instead.\n",
            "  offset = pd.tseries.frequencies.to_offset(freq)\n",
            "1it [00:00, 170.49it/s]\n"
          ]
        },
        {
          "output_type": "stream",
          "name": "stdout",
          "text": [
            "\n",
            "🌊 Evaluating INDONESIAN\n"
          ]
        },
        {
          "output_type": "stream",
          "name": "stderr",
          "text": [
            "0it [00:00, ?it/s]/usr/local/lib/python3.11/dist-packages/gluonts/time_feature/seasonality.py:47: FutureWarning: 'M' is deprecated and will be removed in a future version, please use 'ME' instead.\n",
            "  offset = pd.tseries.frequencies.to_offset(freq)\n",
            "1it [00:00, 173.17it/s]\n"
          ]
        },
        {
          "output_type": "stream",
          "name": "stdout",
          "text": [
            "\n",
            "🌊 Evaluating PACIFIC_OCEAN\n"
          ]
        },
        {
          "output_type": "stream",
          "name": "stderr",
          "text": [
            "0it [00:00, ?it/s]/usr/local/lib/python3.11/dist-packages/gluonts/time_feature/seasonality.py:47: FutureWarning: 'M' is deprecated and will be removed in a future version, please use 'ME' instead.\n",
            "  offset = pd.tseries.frequencies.to_offset(freq)\n",
            "1it [00:00, 187.65it/s]\n"
          ]
        },
        {
          "output_type": "stream",
          "name": "stdout",
          "text": [
            "\n",
            "🌊 Evaluating MEDITERRANEAN_SEA\n"
          ]
        },
        {
          "output_type": "stream",
          "name": "stderr",
          "text": [
            "0it [00:00, ?it/s]/usr/local/lib/python3.11/dist-packages/gluonts/time_feature/seasonality.py:47: FutureWarning: 'M' is deprecated and will be removed in a future version, please use 'ME' instead.\n",
            "  offset = pd.tseries.frequencies.to_offset(freq)\n",
            "1it [00:00, 167.99it/s]\n"
          ]
        },
        {
          "output_type": "stream",
          "name": "stdout",
          "text": [
            "\n",
            "🌊 Evaluating NORTH_PACIFIC_OCEAN\n"
          ]
        },
        {
          "output_type": "stream",
          "name": "stderr",
          "text": [
            "0it [00:00, ?it/s]/usr/local/lib/python3.11/dist-packages/gluonts/time_feature/seasonality.py:47: FutureWarning: 'M' is deprecated and will be removed in a future version, please use 'ME' instead.\n",
            "  offset = pd.tseries.frequencies.to_offset(freq)\n",
            "1it [00:00, 167.36it/s]\n"
          ]
        },
        {
          "output_type": "stream",
          "name": "stdout",
          "text": [
            "\n",
            "🌊 Evaluating NORTH_ATLANTIC_OCEAN\n"
          ]
        },
        {
          "output_type": "stream",
          "name": "stderr",
          "text": [
            "0it [00:00, ?it/s]/usr/local/lib/python3.11/dist-packages/gluonts/time_feature/seasonality.py:47: FutureWarning: 'M' is deprecated and will be removed in a future version, please use 'ME' instead.\n",
            "  offset = pd.tseries.frequencies.to_offset(freq)\n",
            "1it [00:00, 151.22it/s]\n"
          ]
        },
        {
          "output_type": "stream",
          "name": "stdout",
          "text": [
            "\n",
            "🌊 Evaluating TROPICS\n"
          ]
        },
        {
          "output_type": "stream",
          "name": "stderr",
          "text": [
            "0it [00:00, ?it/s]/usr/local/lib/python3.11/dist-packages/gluonts/time_feature/seasonality.py:47: FutureWarning: 'M' is deprecated and will be removed in a future version, please use 'ME' instead.\n",
            "  offset = pd.tseries.frequencies.to_offset(freq)\n",
            "1it [00:00, 170.86it/s]\n"
          ]
        },
        {
          "output_type": "stream",
          "name": "stdout",
          "text": [
            "\n",
            "🌊 Evaluating SOUTH_CHINA_SEA\n"
          ]
        },
        {
          "output_type": "stream",
          "name": "stderr",
          "text": [
            "0it [00:00, ?it/s]/usr/local/lib/python3.11/dist-packages/gluonts/time_feature/seasonality.py:47: FutureWarning: 'M' is deprecated and will be removed in a future version, please use 'ME' instead.\n",
            "  offset = pd.tseries.frequencies.to_offset(freq)\n",
            "1it [00:00, 176.51it/s]\n"
          ]
        },
        {
          "output_type": "stream",
          "name": "stdout",
          "text": [
            "\n",
            "🌊 Evaluating YELLOW_SEA\n"
          ]
        },
        {
          "output_type": "stream",
          "name": "stderr",
          "text": [
            "0it [00:00, ?it/s]/usr/local/lib/python3.11/dist-packages/gluonts/time_feature/seasonality.py:47: FutureWarning: 'M' is deprecated and will be removed in a future version, please use 'ME' instead.\n",
            "  offset = pd.tseries.frequencies.to_offset(freq)\n",
            "1it [00:00, 176.03it/s]\n"
          ]
        },
        {
          "output_type": "display_data",
          "data": {
            "text/plain": [
              "                     sea      MASE       WQL\n",
              "0         ATLANTIC_OCEAN  0.963544  0.142230\n",
              "1             BALTIC_SEA  0.745635  0.577911\n",
              "2        GULF_of_AMERICA  0.719013  0.228865\n",
              "3            ANDAMAN_SEA  0.720501  0.340159\n",
              "4             BERING_SEA  0.712519  0.285160\n",
              "5         BAY_OF_BENGALS  0.867207  0.221724\n",
              "6           INDIAN_OCEAN  0.972604  0.102486\n",
              "7           ADRIATIC_SEA  0.867251  0.514763\n",
              "8            ARABIAN_SEA  0.795149  0.269176\n",
              "9          CARIBBEAN_SEA  0.598570  0.174524\n",
              "10        SEA_of_OKHOTSK  0.837592  0.271447\n",
              "11          PERSIAN_GULF  1.245128  0.570416\n",
              "12             NORTH_SEA  0.710135  0.363079\n",
              "13          SEA_of_JAPAN  0.431659  0.189522\n",
              "14            INDONESIAN  1.010609  0.479663\n",
              "15         PACIFIC_OCEAN  0.901186  0.067665\n",
              "16     MEDITERRANEAN_SEA  0.715518  0.360316\n",
              "17   NORTH_PACIFIC_OCEAN  0.474999  0.146720\n",
              "18  NORTH_ATLANTIC_OCEAN  0.592940  0.196816\n",
              "19               TROPICS  0.816772  0.046499\n",
              "20       SOUTH_CHINA_SEA  0.936725  0.388451\n",
              "21            YELLOW_SEA  0.660799  0.360535"
            ],
            "text/html": [
              "\n",
              "  <div id=\"df-2040eda1-338c-4869-8d76-e7c55883bdac\" class=\"colab-df-container\">\n",
              "    <div>\n",
              "<style scoped>\n",
              "    .dataframe tbody tr th:only-of-type {\n",
              "        vertical-align: middle;\n",
              "    }\n",
              "\n",
              "    .dataframe tbody tr th {\n",
              "        vertical-align: top;\n",
              "    }\n",
              "\n",
              "    .dataframe thead th {\n",
              "        text-align: right;\n",
              "    }\n",
              "</style>\n",
              "<table border=\"1\" class=\"dataframe\">\n",
              "  <thead>\n",
              "    <tr style=\"text-align: right;\">\n",
              "      <th></th>\n",
              "      <th>sea</th>\n",
              "      <th>MASE</th>\n",
              "      <th>WQL</th>\n",
              "    </tr>\n",
              "  </thead>\n",
              "  <tbody>\n",
              "    <tr>\n",
              "      <th>0</th>\n",
              "      <td>ATLANTIC_OCEAN</td>\n",
              "      <td>0.963544</td>\n",
              "      <td>0.142230</td>\n",
              "    </tr>\n",
              "    <tr>\n",
              "      <th>1</th>\n",
              "      <td>BALTIC_SEA</td>\n",
              "      <td>0.745635</td>\n",
              "      <td>0.577911</td>\n",
              "    </tr>\n",
              "    <tr>\n",
              "      <th>2</th>\n",
              "      <td>GULF_of_AMERICA</td>\n",
              "      <td>0.719013</td>\n",
              "      <td>0.228865</td>\n",
              "    </tr>\n",
              "    <tr>\n",
              "      <th>3</th>\n",
              "      <td>ANDAMAN_SEA</td>\n",
              "      <td>0.720501</td>\n",
              "      <td>0.340159</td>\n",
              "    </tr>\n",
              "    <tr>\n",
              "      <th>4</th>\n",
              "      <td>BERING_SEA</td>\n",
              "      <td>0.712519</td>\n",
              "      <td>0.285160</td>\n",
              "    </tr>\n",
              "    <tr>\n",
              "      <th>5</th>\n",
              "      <td>BAY_OF_BENGALS</td>\n",
              "      <td>0.867207</td>\n",
              "      <td>0.221724</td>\n",
              "    </tr>\n",
              "    <tr>\n",
              "      <th>6</th>\n",
              "      <td>INDIAN_OCEAN</td>\n",
              "      <td>0.972604</td>\n",
              "      <td>0.102486</td>\n",
              "    </tr>\n",
              "    <tr>\n",
              "      <th>7</th>\n",
              "      <td>ADRIATIC_SEA</td>\n",
              "      <td>0.867251</td>\n",
              "      <td>0.514763</td>\n",
              "    </tr>\n",
              "    <tr>\n",
              "      <th>8</th>\n",
              "      <td>ARABIAN_SEA</td>\n",
              "      <td>0.795149</td>\n",
              "      <td>0.269176</td>\n",
              "    </tr>\n",
              "    <tr>\n",
              "      <th>9</th>\n",
              "      <td>CARIBBEAN_SEA</td>\n",
              "      <td>0.598570</td>\n",
              "      <td>0.174524</td>\n",
              "    </tr>\n",
              "    <tr>\n",
              "      <th>10</th>\n",
              "      <td>SEA_of_OKHOTSK</td>\n",
              "      <td>0.837592</td>\n",
              "      <td>0.271447</td>\n",
              "    </tr>\n",
              "    <tr>\n",
              "      <th>11</th>\n",
              "      <td>PERSIAN_GULF</td>\n",
              "      <td>1.245128</td>\n",
              "      <td>0.570416</td>\n",
              "    </tr>\n",
              "    <tr>\n",
              "      <th>12</th>\n",
              "      <td>NORTH_SEA</td>\n",
              "      <td>0.710135</td>\n",
              "      <td>0.363079</td>\n",
              "    </tr>\n",
              "    <tr>\n",
              "      <th>13</th>\n",
              "      <td>SEA_of_JAPAN</td>\n",
              "      <td>0.431659</td>\n",
              "      <td>0.189522</td>\n",
              "    </tr>\n",
              "    <tr>\n",
              "      <th>14</th>\n",
              "      <td>INDONESIAN</td>\n",
              "      <td>1.010609</td>\n",
              "      <td>0.479663</td>\n",
              "    </tr>\n",
              "    <tr>\n",
              "      <th>15</th>\n",
              "      <td>PACIFIC_OCEAN</td>\n",
              "      <td>0.901186</td>\n",
              "      <td>0.067665</td>\n",
              "    </tr>\n",
              "    <tr>\n",
              "      <th>16</th>\n",
              "      <td>MEDITERRANEAN_SEA</td>\n",
              "      <td>0.715518</td>\n",
              "      <td>0.360316</td>\n",
              "    </tr>\n",
              "    <tr>\n",
              "      <th>17</th>\n",
              "      <td>NORTH_PACIFIC_OCEAN</td>\n",
              "      <td>0.474999</td>\n",
              "      <td>0.146720</td>\n",
              "    </tr>\n",
              "    <tr>\n",
              "      <th>18</th>\n",
              "      <td>NORTH_ATLANTIC_OCEAN</td>\n",
              "      <td>0.592940</td>\n",
              "      <td>0.196816</td>\n",
              "    </tr>\n",
              "    <tr>\n",
              "      <th>19</th>\n",
              "      <td>TROPICS</td>\n",
              "      <td>0.816772</td>\n",
              "      <td>0.046499</td>\n",
              "    </tr>\n",
              "    <tr>\n",
              "      <th>20</th>\n",
              "      <td>SOUTH_CHINA_SEA</td>\n",
              "      <td>0.936725</td>\n",
              "      <td>0.388451</td>\n",
              "    </tr>\n",
              "    <tr>\n",
              "      <th>21</th>\n",
              "      <td>YELLOW_SEA</td>\n",
              "      <td>0.660799</td>\n",
              "      <td>0.360535</td>\n",
              "    </tr>\n",
              "  </tbody>\n",
              "</table>\n",
              "</div>\n",
              "    <div class=\"colab-df-buttons\">\n",
              "\n",
              "  <div class=\"colab-df-container\">\n",
              "    <button class=\"colab-df-convert\" onclick=\"convertToInteractive('df-2040eda1-338c-4869-8d76-e7c55883bdac')\"\n",
              "            title=\"Convert this dataframe to an interactive table.\"\n",
              "            style=\"display:none;\">\n",
              "\n",
              "  <svg xmlns=\"http://www.w3.org/2000/svg\" height=\"24px\" viewBox=\"0 -960 960 960\">\n",
              "    <path d=\"M120-120v-720h720v720H120Zm60-500h600v-160H180v160Zm220 220h160v-160H400v160Zm0 220h160v-160H400v160ZM180-400h160v-160H180v160Zm440 0h160v-160H620v160ZM180-180h160v-160H180v160Zm440 0h160v-160H620v160Z\"/>\n",
              "  </svg>\n",
              "    </button>\n",
              "\n",
              "  <style>\n",
              "    .colab-df-container {\n",
              "      display:flex;\n",
              "      gap: 12px;\n",
              "    }\n",
              "\n",
              "    .colab-df-convert {\n",
              "      background-color: #E8F0FE;\n",
              "      border: none;\n",
              "      border-radius: 50%;\n",
              "      cursor: pointer;\n",
              "      display: none;\n",
              "      fill: #1967D2;\n",
              "      height: 32px;\n",
              "      padding: 0 0 0 0;\n",
              "      width: 32px;\n",
              "    }\n",
              "\n",
              "    .colab-df-convert:hover {\n",
              "      background-color: #E2EBFA;\n",
              "      box-shadow: 0px 1px 2px rgba(60, 64, 67, 0.3), 0px 1px 3px 1px rgba(60, 64, 67, 0.15);\n",
              "      fill: #174EA6;\n",
              "    }\n",
              "\n",
              "    .colab-df-buttons div {\n",
              "      margin-bottom: 4px;\n",
              "    }\n",
              "\n",
              "    [theme=dark] .colab-df-convert {\n",
              "      background-color: #3B4455;\n",
              "      fill: #D2E3FC;\n",
              "    }\n",
              "\n",
              "    [theme=dark] .colab-df-convert:hover {\n",
              "      background-color: #434B5C;\n",
              "      box-shadow: 0px 1px 3px 1px rgba(0, 0, 0, 0.15);\n",
              "      filter: drop-shadow(0px 1px 2px rgba(0, 0, 0, 0.3));\n",
              "      fill: #FFFFFF;\n",
              "    }\n",
              "  </style>\n",
              "\n",
              "    <script>\n",
              "      const buttonEl =\n",
              "        document.querySelector('#df-2040eda1-338c-4869-8d76-e7c55883bdac button.colab-df-convert');\n",
              "      buttonEl.style.display =\n",
              "        google.colab.kernel.accessAllowed ? 'block' : 'none';\n",
              "\n",
              "      async function convertToInteractive(key) {\n",
              "        const element = document.querySelector('#df-2040eda1-338c-4869-8d76-e7c55883bdac');\n",
              "        const dataTable =\n",
              "          await google.colab.kernel.invokeFunction('convertToInteractive',\n",
              "                                                    [key], {});\n",
              "        if (!dataTable) return;\n",
              "\n",
              "        const docLinkHtml = 'Like what you see? Visit the ' +\n",
              "          '<a target=\"_blank\" href=https://colab.research.google.com/notebooks/data_table.ipynb>data table notebook</a>'\n",
              "          + ' to learn more about interactive tables.';\n",
              "        element.innerHTML = '';\n",
              "        dataTable['output_type'] = 'display_data';\n",
              "        await google.colab.output.renderOutput(dataTable, element);\n",
              "        const docLink = document.createElement('div');\n",
              "        docLink.innerHTML = docLinkHtml;\n",
              "        element.appendChild(docLink);\n",
              "      }\n",
              "    </script>\n",
              "  </div>\n",
              "\n",
              "\n",
              "    <div id=\"df-c0b0e444-9a9b-47c9-a4e7-180c7e1a7c85\">\n",
              "      <button class=\"colab-df-quickchart\" onclick=\"quickchart('df-c0b0e444-9a9b-47c9-a4e7-180c7e1a7c85')\"\n",
              "                title=\"Suggest charts\"\n",
              "                style=\"display:none;\">\n",
              "\n",
              "<svg xmlns=\"http://www.w3.org/2000/svg\" height=\"24px\"viewBox=\"0 0 24 24\"\n",
              "     width=\"24px\">\n",
              "    <g>\n",
              "        <path d=\"M19 3H5c-1.1 0-2 .9-2 2v14c0 1.1.9 2 2 2h14c1.1 0 2-.9 2-2V5c0-1.1-.9-2-2-2zM9 17H7v-7h2v7zm4 0h-2V7h2v10zm4 0h-2v-4h2v4z\"/>\n",
              "    </g>\n",
              "</svg>\n",
              "      </button>\n",
              "\n",
              "<style>\n",
              "  .colab-df-quickchart {\n",
              "      --bg-color: #E8F0FE;\n",
              "      --fill-color: #1967D2;\n",
              "      --hover-bg-color: #E2EBFA;\n",
              "      --hover-fill-color: #174EA6;\n",
              "      --disabled-fill-color: #AAA;\n",
              "      --disabled-bg-color: #DDD;\n",
              "  }\n",
              "\n",
              "  [theme=dark] .colab-df-quickchart {\n",
              "      --bg-color: #3B4455;\n",
              "      --fill-color: #D2E3FC;\n",
              "      --hover-bg-color: #434B5C;\n",
              "      --hover-fill-color: #FFFFFF;\n",
              "      --disabled-bg-color: #3B4455;\n",
              "      --disabled-fill-color: #666;\n",
              "  }\n",
              "\n",
              "  .colab-df-quickchart {\n",
              "    background-color: var(--bg-color);\n",
              "    border: none;\n",
              "    border-radius: 50%;\n",
              "    cursor: pointer;\n",
              "    display: none;\n",
              "    fill: var(--fill-color);\n",
              "    height: 32px;\n",
              "    padding: 0;\n",
              "    width: 32px;\n",
              "  }\n",
              "\n",
              "  .colab-df-quickchart:hover {\n",
              "    background-color: var(--hover-bg-color);\n",
              "    box-shadow: 0 1px 2px rgba(60, 64, 67, 0.3), 0 1px 3px 1px rgba(60, 64, 67, 0.15);\n",
              "    fill: var(--button-hover-fill-color);\n",
              "  }\n",
              "\n",
              "  .colab-df-quickchart-complete:disabled,\n",
              "  .colab-df-quickchart-complete:disabled:hover {\n",
              "    background-color: var(--disabled-bg-color);\n",
              "    fill: var(--disabled-fill-color);\n",
              "    box-shadow: none;\n",
              "  }\n",
              "\n",
              "  .colab-df-spinner {\n",
              "    border: 2px solid var(--fill-color);\n",
              "    border-color: transparent;\n",
              "    border-bottom-color: var(--fill-color);\n",
              "    animation:\n",
              "      spin 1s steps(1) infinite;\n",
              "  }\n",
              "\n",
              "  @keyframes spin {\n",
              "    0% {\n",
              "      border-color: transparent;\n",
              "      border-bottom-color: var(--fill-color);\n",
              "      border-left-color: var(--fill-color);\n",
              "    }\n",
              "    20% {\n",
              "      border-color: transparent;\n",
              "      border-left-color: var(--fill-color);\n",
              "      border-top-color: var(--fill-color);\n",
              "    }\n",
              "    30% {\n",
              "      border-color: transparent;\n",
              "      border-left-color: var(--fill-color);\n",
              "      border-top-color: var(--fill-color);\n",
              "      border-right-color: var(--fill-color);\n",
              "    }\n",
              "    40% {\n",
              "      border-color: transparent;\n",
              "      border-right-color: var(--fill-color);\n",
              "      border-top-color: var(--fill-color);\n",
              "    }\n",
              "    60% {\n",
              "      border-color: transparent;\n",
              "      border-right-color: var(--fill-color);\n",
              "    }\n",
              "    80% {\n",
              "      border-color: transparent;\n",
              "      border-right-color: var(--fill-color);\n",
              "      border-bottom-color: var(--fill-color);\n",
              "    }\n",
              "    90% {\n",
              "      border-color: transparent;\n",
              "      border-bottom-color: var(--fill-color);\n",
              "    }\n",
              "  }\n",
              "</style>\n",
              "\n",
              "      <script>\n",
              "        async function quickchart(key) {\n",
              "          const quickchartButtonEl =\n",
              "            document.querySelector('#' + key + ' button');\n",
              "          quickchartButtonEl.disabled = true;  // To prevent multiple clicks.\n",
              "          quickchartButtonEl.classList.add('colab-df-spinner');\n",
              "          try {\n",
              "            const charts = await google.colab.kernel.invokeFunction(\n",
              "                'suggestCharts', [key], {});\n",
              "          } catch (error) {\n",
              "            console.error('Error during call to suggestCharts:', error);\n",
              "          }\n",
              "          quickchartButtonEl.classList.remove('colab-df-spinner');\n",
              "          quickchartButtonEl.classList.add('colab-df-quickchart-complete');\n",
              "        }\n",
              "        (() => {\n",
              "          let quickchartButtonEl =\n",
              "            document.querySelector('#df-c0b0e444-9a9b-47c9-a4e7-180c7e1a7c85 button');\n",
              "          quickchartButtonEl.style.display =\n",
              "            google.colab.kernel.accessAllowed ? 'block' : 'none';\n",
              "        })();\n",
              "      </script>\n",
              "    </div>\n",
              "\n",
              "  <div id=\"id_9685b859-34a8-44a7-a28f-53a9651e59b6\">\n",
              "    <style>\n",
              "      .colab-df-generate {\n",
              "        background-color: #E8F0FE;\n",
              "        border: none;\n",
              "        border-radius: 50%;\n",
              "        cursor: pointer;\n",
              "        display: none;\n",
              "        fill: #1967D2;\n",
              "        height: 32px;\n",
              "        padding: 0 0 0 0;\n",
              "        width: 32px;\n",
              "      }\n",
              "\n",
              "      .colab-df-generate:hover {\n",
              "        background-color: #E2EBFA;\n",
              "        box-shadow: 0px 1px 2px rgba(60, 64, 67, 0.3), 0px 1px 3px 1px rgba(60, 64, 67, 0.15);\n",
              "        fill: #174EA6;\n",
              "      }\n",
              "\n",
              "      [theme=dark] .colab-df-generate {\n",
              "        background-color: #3B4455;\n",
              "        fill: #D2E3FC;\n",
              "      }\n",
              "\n",
              "      [theme=dark] .colab-df-generate:hover {\n",
              "        background-color: #434B5C;\n",
              "        box-shadow: 0px 1px 3px 1px rgba(0, 0, 0, 0.15);\n",
              "        filter: drop-shadow(0px 1px 2px rgba(0, 0, 0, 0.3));\n",
              "        fill: #FFFFFF;\n",
              "      }\n",
              "    </style>\n",
              "    <button class=\"colab-df-generate\" onclick=\"generateWithVariable('final_chronos_df')\"\n",
              "            title=\"Generate code using this dataframe.\"\n",
              "            style=\"display:none;\">\n",
              "\n",
              "  <svg xmlns=\"http://www.w3.org/2000/svg\" height=\"24px\"viewBox=\"0 0 24 24\"\n",
              "       width=\"24px\">\n",
              "    <path d=\"M7,19H8.4L18.45,9,17,7.55,7,17.6ZM5,21V16.75L18.45,3.32a2,2,0,0,1,2.83,0l1.4,1.43a1.91,1.91,0,0,1,.58,1.4,1.91,1.91,0,0,1-.58,1.4L9.25,21ZM18.45,9,17,7.55Zm-12,3A5.31,5.31,0,0,0,4.9,8.1,5.31,5.31,0,0,0,1,6.5,5.31,5.31,0,0,0,4.9,4.9,5.31,5.31,0,0,0,6.5,1,5.31,5.31,0,0,0,8.1,4.9,5.31,5.31,0,0,0,12,6.5,5.46,5.46,0,0,0,6.5,12Z\"/>\n",
              "  </svg>\n",
              "    </button>\n",
              "    <script>\n",
              "      (() => {\n",
              "      const buttonEl =\n",
              "        document.querySelector('#id_9685b859-34a8-44a7-a28f-53a9651e59b6 button.colab-df-generate');\n",
              "      buttonEl.style.display =\n",
              "        google.colab.kernel.accessAllowed ? 'block' : 'none';\n",
              "\n",
              "      buttonEl.onclick = () => {\n",
              "        google.colab.notebook.generateWithVariable('final_chronos_df');\n",
              "      }\n",
              "      })();\n",
              "    </script>\n",
              "  </div>\n",
              "\n",
              "    </div>\n",
              "  </div>\n"
            ],
            "application/vnd.google.colaboratory.intrinsic+json": {
              "type": "dataframe",
              "variable_name": "final_chronos_df",
              "summary": "{\n  \"name\": \"final_chronos_df\",\n  \"rows\": 22,\n  \"fields\": [\n    {\n      \"column\": \"sea\",\n      \"properties\": {\n        \"dtype\": \"string\",\n        \"num_unique_values\": 22,\n        \"samples\": [\n          \"ATLANTIC_OCEAN\",\n          \"SEA_of_JAPAN\",\n          \"ARABIAN_SEA\"\n        ],\n        \"semantic_type\": \"\",\n        \"description\": \"\"\n      }\n    },\n    {\n      \"column\": \"MASE\",\n      \"properties\": {\n        \"dtype\": \"number\",\n        \"std\": 0.1848229724274848,\n        \"min\": 0.43165929295007754,\n        \"max\": 1.2451282061445188,\n        \"num_unique_values\": 22,\n        \"samples\": [\n          0.9635439956234279,\n          0.43165929295007754,\n          0.7951487427435305\n        ],\n        \"semantic_type\": \"\",\n        \"description\": \"\"\n      }\n    },\n    {\n      \"column\": \"WQL\",\n      \"properties\": {\n        \"dtype\": \"number\",\n        \"std\": 0.15472655201835164,\n        \"min\": 0.046499107169276445,\n        \"max\": 0.5779110154772318,\n        \"num_unique_values\": 22,\n        \"samples\": [\n          0.14223029098920817,\n          0.18952245779688054,\n          0.26917570479353364\n        ],\n        \"semantic_type\": \"\",\n        \"description\": \"\"\n      }\n    }\n  ]\n}"
            }
          },
          "metadata": {}
        }
      ],
      "source": [
        "# 🔧 Convert a DataFrame to GluonTS-compatible format\n",
        "def to_gluonts_entry(df: pd.DataFrame, freq=\"M\"):\n",
        "    df[\"time\"] = pd.to_datetime(df[\"time\"])\n",
        "    return {\n",
        "        \"start\": pd.Period(df[\"time\"].iloc[0], freq=freq),\n",
        "        \"target\": df[\"sea_level_altitude\"].to_numpy()\n",
        "    }\n",
        "\n",
        "# ⚙️ Perform forecasting and evaluation using a Chronos pipeline and GluonTS metrics\n",
        "def evaluate_sea_level_series(series_dict, pipeline, prediction_length=48):\n",
        "    # Create test instances using GluonTS split utilities\n",
        "    _, test_template = split([series_dict], offset=-prediction_length)\n",
        "    test_data = test_template.generate_instances(prediction_length=prediction_length, windows=1)\n",
        "\n",
        "    # Forecast loop using the Chronos pipeline\n",
        "    forecast_outputs = []\n",
        "    for ts in test_data.input:\n",
        "        context = torch.tensor(ts[\"target\"])\n",
        "        forecast = pipeline.predict([context], prediction_length=prediction_length).numpy()\n",
        "        forecast_outputs.append(forecast[0])\n",
        "\n",
        "    # Format forecast into GluonTS-compatible objects\n",
        "    forecasts = []\n",
        "    for item, ts in zip(forecast_outputs, test_data.input):\n",
        "        start = ts[\"start\"] + len(ts[\"target\"])\n",
        "        if pipeline.forecast_type == ForecastType.SAMPLES:\n",
        "            forecasts.append(SampleForecast(samples=item, start_date=start))\n",
        "        elif pipeline.forecast_type == ForecastType.QUANTILES:\n",
        "            forecasts.append(QuantileForecast(\n",
        "                forecast_arrays=item,\n",
        "                forecast_keys=list(map(str, pipeline.quantiles)),\n",
        "                start_date=start\n",
        "            ))\n",
        "\n",
        "    # Evaluate using GluonTS metrics\n",
        "    metrics = evaluate_forecasts(\n",
        "        forecasts=forecasts,\n",
        "        test_data=test_data,\n",
        "        metrics=[\n",
        "            MASE(),\n",
        "            MeanWeightedSumQuantileLoss(np.arange(0.1, 1.0, 0.1))\n",
        "        ]\n",
        "    )\n",
        "    return metrics\n",
        "\n",
        "\n",
        "# List of sea regions to evaluate\n",
        "sea_names = sea_list  # Replace or define sea_list earlier in your script\n",
        "\n",
        "rows = []\n",
        "results = []\n",
        "\n",
        "for sea in sea_names:\n",
        "    print(f\"\\n🌊 Evaluating {sea}\")\n",
        "    df = clean_data_by_the_sea(sea, keep_seasonality=True, inside_66=True)\n",
        "    entry = to_gluonts_entry(df)\n",
        "\n",
        "    # Run forecast and evaluation\n",
        "    metrics = evaluate_sea_level_series(entry, pipeline, prediction_length=48)\n",
        "\n",
        "    # Store full metric dictionary and extract key values\n",
        "    results.append({\"sea\": sea, **metrics})\n",
        "    mase = metrics[\"MASE[0.5]\"].item()\n",
        "    wql = metrics[\"mean_weighted_sum_quantile_loss\"].item()\n",
        "    rows.append((sea, mase, wql))\n",
        "\n",
        "# 📊 Create final results DataFrame\n",
        "final_chronos_df = pd.DataFrame(rows, columns=[\"sea\", \"MASE\", \"WQL\"])\n",
        "display(final_chronos_df)\n",
        "\n",
        "# 💾 Save results to CSV file\n",
        "final_chronos_df.to_csv(\"sea_level_chronos_evaluation.csv\", index=False)"
      ]
    },
    {
      "cell_type": "markdown",
      "metadata": {
        "id": "7wTvP2N17Ehq"
      },
      "source": [
        "## AutoARIMA implementation"
      ]
    },
    {
      "cell_type": "code",
      "execution_count": 22,
      "metadata": {
        "id": "YAgq_jN1mmhG"
      },
      "outputs": [],
      "source": [
        "def fractional_year_to_date(fractional_year):\n",
        "    year = int(fractional_year)\n",
        "    remainder = fractional_year - year\n",
        "    start_of_year = datetime(year, 1, 1)\n",
        "    # Calculate how many seconds represent the fractional part of the year\n",
        "    days_in_year = 366 if is_leap_year(year) else 365\n",
        "    date = start_of_year + timedelta(days=remainder * days_in_year)\n",
        "    return date.strftime(\"%Y-%m-%d\")\n",
        "\n",
        "def is_leap_year(year):\n",
        "    return year % 4 == 0"
      ]
    },
    {
      "cell_type": "code",
      "execution_count": 23,
      "metadata": {
        "id": "gIc3D_yYnB4e",
        "colab": {
          "base_uri": "https://localhost:8080/"
        },
        "outputId": "c47f53a9-d28a-4f06-bec9-6f6de7d85ae0"
      },
      "outputs": [
        {
          "output_type": "stream",
          "name": "stdout",
          "text": [
            "2024.3754 ➜ 2024-05-17\n",
            "2024.3972 ➜ 2024-05-25\n",
            "2024.4026 ➜ 2024-05-27\n",
            "2024.4243 ➜ 2024-06-04\n",
            "2024.4297 ➜ 2024-06-06\n"
          ]
        }
      ],
      "source": [
        "# Example\n",
        "dates = [2024.3754, 2024.3972, 2024.4026, 2024.4243, 2024.4297]\n",
        "converted_dates = [fractional_year_to_date(d) for d in dates]\n",
        "\n",
        "for original, converted in zip(dates, converted_dates):\n",
        "    print(f\"{original} ➜ {converted}\")"
      ]
    },
    {
      "cell_type": "code",
      "execution_count": 24,
      "metadata": {
        "id": "VyJM_taujbsR",
        "colab": {
          "base_uri": "https://localhost:8080/",
          "height": 1000
        },
        "outputId": "31ec3fb4-7664-4b57-e643-668ee2d6d925"
      },
      "outputs": [
        {
          "output_type": "stream",
          "name": "stdout",
          "text": [
            "\n",
            "🌊 Evaluating AutoARIMA ATLANTIC_OCEAN\n"
          ]
        },
        {
          "output_type": "stream",
          "name": "stderr",
          "text": [
            "1it [00:00, 172.21it/s]\n"
          ]
        },
        {
          "output_type": "stream",
          "name": "stdout",
          "text": [
            "\n",
            "🌊 Evaluating AutoARIMA BALTIC_SEA\n"
          ]
        },
        {
          "output_type": "stream",
          "name": "stderr",
          "text": [
            "1it [00:00, 170.89it/s]\n"
          ]
        },
        {
          "output_type": "stream",
          "name": "stdout",
          "text": [
            "\n",
            "🌊 Evaluating AutoARIMA GULF_of_AMERICA\n"
          ]
        },
        {
          "output_type": "stream",
          "name": "stderr",
          "text": [
            "1it [00:00, 162.56it/s]\n"
          ]
        },
        {
          "output_type": "stream",
          "name": "stdout",
          "text": [
            "\n",
            "🌊 Evaluating AutoARIMA ANDAMAN_SEA\n"
          ]
        },
        {
          "output_type": "stream",
          "name": "stderr",
          "text": [
            "1it [00:00, 170.16it/s]\n"
          ]
        },
        {
          "output_type": "stream",
          "name": "stdout",
          "text": [
            "\n",
            "🌊 Evaluating AutoARIMA BERING_SEA\n"
          ]
        },
        {
          "output_type": "stream",
          "name": "stderr",
          "text": [
            "1it [00:00, 183.18it/s]\n"
          ]
        },
        {
          "output_type": "stream",
          "name": "stdout",
          "text": [
            "\n",
            "🌊 Evaluating AutoARIMA BAY_OF_BENGALS\n"
          ]
        },
        {
          "output_type": "stream",
          "name": "stderr",
          "text": [
            "1it [00:00, 174.20it/s]\n"
          ]
        },
        {
          "output_type": "stream",
          "name": "stdout",
          "text": [
            "\n",
            "🌊 Evaluating AutoARIMA INDIAN_OCEAN\n"
          ]
        },
        {
          "output_type": "stream",
          "name": "stderr",
          "text": [
            "1it [00:00, 178.37it/s]\n"
          ]
        },
        {
          "output_type": "stream",
          "name": "stdout",
          "text": [
            "\n",
            "🌊 Evaluating AutoARIMA ADRIATIC_SEA\n"
          ]
        },
        {
          "output_type": "stream",
          "name": "stderr",
          "text": [
            "1it [00:00, 182.16it/s]\n"
          ]
        },
        {
          "output_type": "stream",
          "name": "stdout",
          "text": [
            "\n",
            "🌊 Evaluating AutoARIMA ARABIAN_SEA\n"
          ]
        },
        {
          "output_type": "stream",
          "name": "stderr",
          "text": [
            "1it [00:00, 191.45it/s]\n"
          ]
        },
        {
          "output_type": "stream",
          "name": "stdout",
          "text": [
            "\n",
            "🌊 Evaluating AutoARIMA CARIBBEAN_SEA\n"
          ]
        },
        {
          "output_type": "stream",
          "name": "stderr",
          "text": [
            "1it [00:00, 179.60it/s]\n"
          ]
        },
        {
          "output_type": "stream",
          "name": "stdout",
          "text": [
            "\n",
            "🌊 Evaluating AutoARIMA SEA_of_OKHOTSK\n"
          ]
        },
        {
          "output_type": "stream",
          "name": "stderr",
          "text": [
            "1it [00:00, 169.59it/s]\n"
          ]
        },
        {
          "output_type": "stream",
          "name": "stdout",
          "text": [
            "\n",
            "🌊 Evaluating AutoARIMA PERSIAN_GULF\n"
          ]
        },
        {
          "output_type": "stream",
          "name": "stderr",
          "text": [
            "1it [00:00, 175.66it/s]\n"
          ]
        },
        {
          "output_type": "stream",
          "name": "stdout",
          "text": [
            "\n",
            "🌊 Evaluating AutoARIMA NORTH_SEA\n"
          ]
        },
        {
          "output_type": "stream",
          "name": "stderr",
          "text": [
            "1it [00:00, 189.84it/s]\n"
          ]
        },
        {
          "output_type": "stream",
          "name": "stdout",
          "text": [
            "\n",
            "🌊 Evaluating AutoARIMA SEA_of_JAPAN\n"
          ]
        },
        {
          "output_type": "stream",
          "name": "stderr",
          "text": [
            "1it [00:00, 183.21it/s]\n"
          ]
        },
        {
          "output_type": "stream",
          "name": "stdout",
          "text": [
            "\n",
            "🌊 Evaluating AutoARIMA INDONESIAN\n"
          ]
        },
        {
          "output_type": "stream",
          "name": "stderr",
          "text": [
            "1it [00:00, 160.44it/s]\n"
          ]
        },
        {
          "output_type": "stream",
          "name": "stdout",
          "text": [
            "\n",
            "🌊 Evaluating AutoARIMA PACIFIC_OCEAN\n"
          ]
        },
        {
          "output_type": "stream",
          "name": "stderr",
          "text": [
            "1it [00:00, 186.41it/s]\n"
          ]
        },
        {
          "output_type": "stream",
          "name": "stdout",
          "text": [
            "\n",
            "🌊 Evaluating AutoARIMA MEDITERRANEAN_SEA\n"
          ]
        },
        {
          "output_type": "stream",
          "name": "stderr",
          "text": [
            "1it [00:00, 169.58it/s]\n"
          ]
        },
        {
          "output_type": "stream",
          "name": "stdout",
          "text": [
            "\n",
            "🌊 Evaluating AutoARIMA NORTH_PACIFIC_OCEAN\n"
          ]
        },
        {
          "output_type": "stream",
          "name": "stderr",
          "text": [
            "1it [00:00, 194.14it/s]\n"
          ]
        },
        {
          "output_type": "stream",
          "name": "stdout",
          "text": [
            "\n",
            "🌊 Evaluating AutoARIMA NORTH_ATLANTIC_OCEAN\n"
          ]
        },
        {
          "output_type": "stream",
          "name": "stderr",
          "text": [
            "1it [00:00, 183.17it/s]\n"
          ]
        },
        {
          "output_type": "stream",
          "name": "stdout",
          "text": [
            "\n",
            "🌊 Evaluating AutoARIMA TROPICS\n"
          ]
        },
        {
          "output_type": "stream",
          "name": "stderr",
          "text": [
            "1it [00:00, 179.44it/s]\n"
          ]
        },
        {
          "output_type": "stream",
          "name": "stdout",
          "text": [
            "\n",
            "🌊 Evaluating AutoARIMA SOUTH_CHINA_SEA\n"
          ]
        },
        {
          "output_type": "stream",
          "name": "stderr",
          "text": [
            "1it [00:00, 188.95it/s]\n"
          ]
        },
        {
          "output_type": "stream",
          "name": "stdout",
          "text": [
            "\n",
            "🌊 Evaluating AutoARIMA YELLOW_SEA\n"
          ]
        },
        {
          "output_type": "stream",
          "name": "stderr",
          "text": [
            "1it [00:00, 173.47it/s]\n"
          ]
        },
        {
          "output_type": "display_data",
          "data": {
            "text/plain": [
              "                     sea      MASE       WQL\n",
              "0         ATLANTIC_OCEAN  1.782835  0.110207\n",
              "1             BALTIC_SEA  1.738170  0.512333\n",
              "2        GULF_of_AMERICA  3.063295  0.346482\n",
              "3            ANDAMAN_SEA  2.448716  0.500565\n",
              "4             BERING_SEA  2.229174  0.390318\n",
              "5         BAY_OF_BENGALS  2.669744  0.255027\n",
              "6           INDIAN_OCEAN  1.873116  0.124809\n",
              "7           ADRIATIC_SEA  1.382241  0.381630\n",
              "8            ARABIAN_SEA  4.562677  0.441413\n",
              "9          CARIBBEAN_SEA  2.289085  0.332766\n",
              "10        SEA_of_OKHOTSK  1.402627  0.254171\n",
              "11          PERSIAN_GULF  1.104287  0.290543\n",
              "12             NORTH_SEA  1.610894  0.345153\n",
              "13          SEA_of_JAPAN  2.571258  0.290687\n",
              "14            INDONESIAN  5.055698  0.539329\n",
              "15         PACIFIC_OCEAN  0.937441  0.054827\n",
              "16     MEDITERRANEAN_SEA  2.357626  0.366389\n",
              "17   NORTH_PACIFIC_OCEAN  3.730016  0.342887\n",
              "18  NORTH_ATLANTIC_OCEAN  3.143849  0.399685\n",
              "19               TROPICS  1.574733  0.043749\n",
              "20       SOUTH_CHINA_SEA  3.411725  0.477324\n",
              "21            YELLOW_SEA  3.212514  0.614873"
            ],
            "text/html": [
              "\n",
              "  <div id=\"df-500eec8d-1700-4532-a4cf-00ddce3bf550\" class=\"colab-df-container\">\n",
              "    <div>\n",
              "<style scoped>\n",
              "    .dataframe tbody tr th:only-of-type {\n",
              "        vertical-align: middle;\n",
              "    }\n",
              "\n",
              "    .dataframe tbody tr th {\n",
              "        vertical-align: top;\n",
              "    }\n",
              "\n",
              "    .dataframe thead th {\n",
              "        text-align: right;\n",
              "    }\n",
              "</style>\n",
              "<table border=\"1\" class=\"dataframe\">\n",
              "  <thead>\n",
              "    <tr style=\"text-align: right;\">\n",
              "      <th></th>\n",
              "      <th>sea</th>\n",
              "      <th>MASE</th>\n",
              "      <th>WQL</th>\n",
              "    </tr>\n",
              "  </thead>\n",
              "  <tbody>\n",
              "    <tr>\n",
              "      <th>0</th>\n",
              "      <td>ATLANTIC_OCEAN</td>\n",
              "      <td>1.782835</td>\n",
              "      <td>0.110207</td>\n",
              "    </tr>\n",
              "    <tr>\n",
              "      <th>1</th>\n",
              "      <td>BALTIC_SEA</td>\n",
              "      <td>1.738170</td>\n",
              "      <td>0.512333</td>\n",
              "    </tr>\n",
              "    <tr>\n",
              "      <th>2</th>\n",
              "      <td>GULF_of_AMERICA</td>\n",
              "      <td>3.063295</td>\n",
              "      <td>0.346482</td>\n",
              "    </tr>\n",
              "    <tr>\n",
              "      <th>3</th>\n",
              "      <td>ANDAMAN_SEA</td>\n",
              "      <td>2.448716</td>\n",
              "      <td>0.500565</td>\n",
              "    </tr>\n",
              "    <tr>\n",
              "      <th>4</th>\n",
              "      <td>BERING_SEA</td>\n",
              "      <td>2.229174</td>\n",
              "      <td>0.390318</td>\n",
              "    </tr>\n",
              "    <tr>\n",
              "      <th>5</th>\n",
              "      <td>BAY_OF_BENGALS</td>\n",
              "      <td>2.669744</td>\n",
              "      <td>0.255027</td>\n",
              "    </tr>\n",
              "    <tr>\n",
              "      <th>6</th>\n",
              "      <td>INDIAN_OCEAN</td>\n",
              "      <td>1.873116</td>\n",
              "      <td>0.124809</td>\n",
              "    </tr>\n",
              "    <tr>\n",
              "      <th>7</th>\n",
              "      <td>ADRIATIC_SEA</td>\n",
              "      <td>1.382241</td>\n",
              "      <td>0.381630</td>\n",
              "    </tr>\n",
              "    <tr>\n",
              "      <th>8</th>\n",
              "      <td>ARABIAN_SEA</td>\n",
              "      <td>4.562677</td>\n",
              "      <td>0.441413</td>\n",
              "    </tr>\n",
              "    <tr>\n",
              "      <th>9</th>\n",
              "      <td>CARIBBEAN_SEA</td>\n",
              "      <td>2.289085</td>\n",
              "      <td>0.332766</td>\n",
              "    </tr>\n",
              "    <tr>\n",
              "      <th>10</th>\n",
              "      <td>SEA_of_OKHOTSK</td>\n",
              "      <td>1.402627</td>\n",
              "      <td>0.254171</td>\n",
              "    </tr>\n",
              "    <tr>\n",
              "      <th>11</th>\n",
              "      <td>PERSIAN_GULF</td>\n",
              "      <td>1.104287</td>\n",
              "      <td>0.290543</td>\n",
              "    </tr>\n",
              "    <tr>\n",
              "      <th>12</th>\n",
              "      <td>NORTH_SEA</td>\n",
              "      <td>1.610894</td>\n",
              "      <td>0.345153</td>\n",
              "    </tr>\n",
              "    <tr>\n",
              "      <th>13</th>\n",
              "      <td>SEA_of_JAPAN</td>\n",
              "      <td>2.571258</td>\n",
              "      <td>0.290687</td>\n",
              "    </tr>\n",
              "    <tr>\n",
              "      <th>14</th>\n",
              "      <td>INDONESIAN</td>\n",
              "      <td>5.055698</td>\n",
              "      <td>0.539329</td>\n",
              "    </tr>\n",
              "    <tr>\n",
              "      <th>15</th>\n",
              "      <td>PACIFIC_OCEAN</td>\n",
              "      <td>0.937441</td>\n",
              "      <td>0.054827</td>\n",
              "    </tr>\n",
              "    <tr>\n",
              "      <th>16</th>\n",
              "      <td>MEDITERRANEAN_SEA</td>\n",
              "      <td>2.357626</td>\n",
              "      <td>0.366389</td>\n",
              "    </tr>\n",
              "    <tr>\n",
              "      <th>17</th>\n",
              "      <td>NORTH_PACIFIC_OCEAN</td>\n",
              "      <td>3.730016</td>\n",
              "      <td>0.342887</td>\n",
              "    </tr>\n",
              "    <tr>\n",
              "      <th>18</th>\n",
              "      <td>NORTH_ATLANTIC_OCEAN</td>\n",
              "      <td>3.143849</td>\n",
              "      <td>0.399685</td>\n",
              "    </tr>\n",
              "    <tr>\n",
              "      <th>19</th>\n",
              "      <td>TROPICS</td>\n",
              "      <td>1.574733</td>\n",
              "      <td>0.043749</td>\n",
              "    </tr>\n",
              "    <tr>\n",
              "      <th>20</th>\n",
              "      <td>SOUTH_CHINA_SEA</td>\n",
              "      <td>3.411725</td>\n",
              "      <td>0.477324</td>\n",
              "    </tr>\n",
              "    <tr>\n",
              "      <th>21</th>\n",
              "      <td>YELLOW_SEA</td>\n",
              "      <td>3.212514</td>\n",
              "      <td>0.614873</td>\n",
              "    </tr>\n",
              "  </tbody>\n",
              "</table>\n",
              "</div>\n",
              "    <div class=\"colab-df-buttons\">\n",
              "\n",
              "  <div class=\"colab-df-container\">\n",
              "    <button class=\"colab-df-convert\" onclick=\"convertToInteractive('df-500eec8d-1700-4532-a4cf-00ddce3bf550')\"\n",
              "            title=\"Convert this dataframe to an interactive table.\"\n",
              "            style=\"display:none;\">\n",
              "\n",
              "  <svg xmlns=\"http://www.w3.org/2000/svg\" height=\"24px\" viewBox=\"0 -960 960 960\">\n",
              "    <path d=\"M120-120v-720h720v720H120Zm60-500h600v-160H180v160Zm220 220h160v-160H400v160Zm0 220h160v-160H400v160ZM180-400h160v-160H180v160Zm440 0h160v-160H620v160ZM180-180h160v-160H180v160Zm440 0h160v-160H620v160Z\"/>\n",
              "  </svg>\n",
              "    </button>\n",
              "\n",
              "  <style>\n",
              "    .colab-df-container {\n",
              "      display:flex;\n",
              "      gap: 12px;\n",
              "    }\n",
              "\n",
              "    .colab-df-convert {\n",
              "      background-color: #E8F0FE;\n",
              "      border: none;\n",
              "      border-radius: 50%;\n",
              "      cursor: pointer;\n",
              "      display: none;\n",
              "      fill: #1967D2;\n",
              "      height: 32px;\n",
              "      padding: 0 0 0 0;\n",
              "      width: 32px;\n",
              "    }\n",
              "\n",
              "    .colab-df-convert:hover {\n",
              "      background-color: #E2EBFA;\n",
              "      box-shadow: 0px 1px 2px rgba(60, 64, 67, 0.3), 0px 1px 3px 1px rgba(60, 64, 67, 0.15);\n",
              "      fill: #174EA6;\n",
              "    }\n",
              "\n",
              "    .colab-df-buttons div {\n",
              "      margin-bottom: 4px;\n",
              "    }\n",
              "\n",
              "    [theme=dark] .colab-df-convert {\n",
              "      background-color: #3B4455;\n",
              "      fill: #D2E3FC;\n",
              "    }\n",
              "\n",
              "    [theme=dark] .colab-df-convert:hover {\n",
              "      background-color: #434B5C;\n",
              "      box-shadow: 0px 1px 3px 1px rgba(0, 0, 0, 0.15);\n",
              "      filter: drop-shadow(0px 1px 2px rgba(0, 0, 0, 0.3));\n",
              "      fill: #FFFFFF;\n",
              "    }\n",
              "  </style>\n",
              "\n",
              "    <script>\n",
              "      const buttonEl =\n",
              "        document.querySelector('#df-500eec8d-1700-4532-a4cf-00ddce3bf550 button.colab-df-convert');\n",
              "      buttonEl.style.display =\n",
              "        google.colab.kernel.accessAllowed ? 'block' : 'none';\n",
              "\n",
              "      async function convertToInteractive(key) {\n",
              "        const element = document.querySelector('#df-500eec8d-1700-4532-a4cf-00ddce3bf550');\n",
              "        const dataTable =\n",
              "          await google.colab.kernel.invokeFunction('convertToInteractive',\n",
              "                                                    [key], {});\n",
              "        if (!dataTable) return;\n",
              "\n",
              "        const docLinkHtml = 'Like what you see? Visit the ' +\n",
              "          '<a target=\"_blank\" href=https://colab.research.google.com/notebooks/data_table.ipynb>data table notebook</a>'\n",
              "          + ' to learn more about interactive tables.';\n",
              "        element.innerHTML = '';\n",
              "        dataTable['output_type'] = 'display_data';\n",
              "        await google.colab.output.renderOutput(dataTable, element);\n",
              "        const docLink = document.createElement('div');\n",
              "        docLink.innerHTML = docLinkHtml;\n",
              "        element.appendChild(docLink);\n",
              "      }\n",
              "    </script>\n",
              "  </div>\n",
              "\n",
              "\n",
              "    <div id=\"df-0a4bf905-5efa-49f6-8d77-7234df63b2df\">\n",
              "      <button class=\"colab-df-quickchart\" onclick=\"quickchart('df-0a4bf905-5efa-49f6-8d77-7234df63b2df')\"\n",
              "                title=\"Suggest charts\"\n",
              "                style=\"display:none;\">\n",
              "\n",
              "<svg xmlns=\"http://www.w3.org/2000/svg\" height=\"24px\"viewBox=\"0 0 24 24\"\n",
              "     width=\"24px\">\n",
              "    <g>\n",
              "        <path d=\"M19 3H5c-1.1 0-2 .9-2 2v14c0 1.1.9 2 2 2h14c1.1 0 2-.9 2-2V5c0-1.1-.9-2-2-2zM9 17H7v-7h2v7zm4 0h-2V7h2v10zm4 0h-2v-4h2v4z\"/>\n",
              "    </g>\n",
              "</svg>\n",
              "      </button>\n",
              "\n",
              "<style>\n",
              "  .colab-df-quickchart {\n",
              "      --bg-color: #E8F0FE;\n",
              "      --fill-color: #1967D2;\n",
              "      --hover-bg-color: #E2EBFA;\n",
              "      --hover-fill-color: #174EA6;\n",
              "      --disabled-fill-color: #AAA;\n",
              "      --disabled-bg-color: #DDD;\n",
              "  }\n",
              "\n",
              "  [theme=dark] .colab-df-quickchart {\n",
              "      --bg-color: #3B4455;\n",
              "      --fill-color: #D2E3FC;\n",
              "      --hover-bg-color: #434B5C;\n",
              "      --hover-fill-color: #FFFFFF;\n",
              "      --disabled-bg-color: #3B4455;\n",
              "      --disabled-fill-color: #666;\n",
              "  }\n",
              "\n",
              "  .colab-df-quickchart {\n",
              "    background-color: var(--bg-color);\n",
              "    border: none;\n",
              "    border-radius: 50%;\n",
              "    cursor: pointer;\n",
              "    display: none;\n",
              "    fill: var(--fill-color);\n",
              "    height: 32px;\n",
              "    padding: 0;\n",
              "    width: 32px;\n",
              "  }\n",
              "\n",
              "  .colab-df-quickchart:hover {\n",
              "    background-color: var(--hover-bg-color);\n",
              "    box-shadow: 0 1px 2px rgba(60, 64, 67, 0.3), 0 1px 3px 1px rgba(60, 64, 67, 0.15);\n",
              "    fill: var(--button-hover-fill-color);\n",
              "  }\n",
              "\n",
              "  .colab-df-quickchart-complete:disabled,\n",
              "  .colab-df-quickchart-complete:disabled:hover {\n",
              "    background-color: var(--disabled-bg-color);\n",
              "    fill: var(--disabled-fill-color);\n",
              "    box-shadow: none;\n",
              "  }\n",
              "\n",
              "  .colab-df-spinner {\n",
              "    border: 2px solid var(--fill-color);\n",
              "    border-color: transparent;\n",
              "    border-bottom-color: var(--fill-color);\n",
              "    animation:\n",
              "      spin 1s steps(1) infinite;\n",
              "  }\n",
              "\n",
              "  @keyframes spin {\n",
              "    0% {\n",
              "      border-color: transparent;\n",
              "      border-bottom-color: var(--fill-color);\n",
              "      border-left-color: var(--fill-color);\n",
              "    }\n",
              "    20% {\n",
              "      border-color: transparent;\n",
              "      border-left-color: var(--fill-color);\n",
              "      border-top-color: var(--fill-color);\n",
              "    }\n",
              "    30% {\n",
              "      border-color: transparent;\n",
              "      border-left-color: var(--fill-color);\n",
              "      border-top-color: var(--fill-color);\n",
              "      border-right-color: var(--fill-color);\n",
              "    }\n",
              "    40% {\n",
              "      border-color: transparent;\n",
              "      border-right-color: var(--fill-color);\n",
              "      border-top-color: var(--fill-color);\n",
              "    }\n",
              "    60% {\n",
              "      border-color: transparent;\n",
              "      border-right-color: var(--fill-color);\n",
              "    }\n",
              "    80% {\n",
              "      border-color: transparent;\n",
              "      border-right-color: var(--fill-color);\n",
              "      border-bottom-color: var(--fill-color);\n",
              "    }\n",
              "    90% {\n",
              "      border-color: transparent;\n",
              "      border-bottom-color: var(--fill-color);\n",
              "    }\n",
              "  }\n",
              "</style>\n",
              "\n",
              "      <script>\n",
              "        async function quickchart(key) {\n",
              "          const quickchartButtonEl =\n",
              "            document.querySelector('#' + key + ' button');\n",
              "          quickchartButtonEl.disabled = true;  // To prevent multiple clicks.\n",
              "          quickchartButtonEl.classList.add('colab-df-spinner');\n",
              "          try {\n",
              "            const charts = await google.colab.kernel.invokeFunction(\n",
              "                'suggestCharts', [key], {});\n",
              "          } catch (error) {\n",
              "            console.error('Error during call to suggestCharts:', error);\n",
              "          }\n",
              "          quickchartButtonEl.classList.remove('colab-df-spinner');\n",
              "          quickchartButtonEl.classList.add('colab-df-quickchart-complete');\n",
              "        }\n",
              "        (() => {\n",
              "          let quickchartButtonEl =\n",
              "            document.querySelector('#df-0a4bf905-5efa-49f6-8d77-7234df63b2df button');\n",
              "          quickchartButtonEl.style.display =\n",
              "            google.colab.kernel.accessAllowed ? 'block' : 'none';\n",
              "        })();\n",
              "      </script>\n",
              "    </div>\n",
              "\n",
              "  <div id=\"id_46641ec1-8811-4736-a3b9-373925176e6c\">\n",
              "    <style>\n",
              "      .colab-df-generate {\n",
              "        background-color: #E8F0FE;\n",
              "        border: none;\n",
              "        border-radius: 50%;\n",
              "        cursor: pointer;\n",
              "        display: none;\n",
              "        fill: #1967D2;\n",
              "        height: 32px;\n",
              "        padding: 0 0 0 0;\n",
              "        width: 32px;\n",
              "      }\n",
              "\n",
              "      .colab-df-generate:hover {\n",
              "        background-color: #E2EBFA;\n",
              "        box-shadow: 0px 1px 2px rgba(60, 64, 67, 0.3), 0px 1px 3px 1px rgba(60, 64, 67, 0.15);\n",
              "        fill: #174EA6;\n",
              "      }\n",
              "\n",
              "      [theme=dark] .colab-df-generate {\n",
              "        background-color: #3B4455;\n",
              "        fill: #D2E3FC;\n",
              "      }\n",
              "\n",
              "      [theme=dark] .colab-df-generate:hover {\n",
              "        background-color: #434B5C;\n",
              "        box-shadow: 0px 1px 3px 1px rgba(0, 0, 0, 0.15);\n",
              "        filter: drop-shadow(0px 1px 2px rgba(0, 0, 0, 0.3));\n",
              "        fill: #FFFFFF;\n",
              "      }\n",
              "    </style>\n",
              "    <button class=\"colab-df-generate\" onclick=\"generateWithVariable('final_autoarima_df')\"\n",
              "            title=\"Generate code using this dataframe.\"\n",
              "            style=\"display:none;\">\n",
              "\n",
              "  <svg xmlns=\"http://www.w3.org/2000/svg\" height=\"24px\"viewBox=\"0 0 24 24\"\n",
              "       width=\"24px\">\n",
              "    <path d=\"M7,19H8.4L18.45,9,17,7.55,7,17.6ZM5,21V16.75L18.45,3.32a2,2,0,0,1,2.83,0l1.4,1.43a1.91,1.91,0,0,1,.58,1.4,1.91,1.91,0,0,1-.58,1.4L9.25,21ZM18.45,9,17,7.55Zm-12,3A5.31,5.31,0,0,0,4.9,8.1,5.31,5.31,0,0,0,1,6.5,5.31,5.31,0,0,0,4.9,4.9,5.31,5.31,0,0,0,6.5,1,5.31,5.31,0,0,0,8.1,4.9,5.31,5.31,0,0,0,12,6.5,5.46,5.46,0,0,0,6.5,12Z\"/>\n",
              "  </svg>\n",
              "    </button>\n",
              "    <script>\n",
              "      (() => {\n",
              "      const buttonEl =\n",
              "        document.querySelector('#id_46641ec1-8811-4736-a3b9-373925176e6c button.colab-df-generate');\n",
              "      buttonEl.style.display =\n",
              "        google.colab.kernel.accessAllowed ? 'block' : 'none';\n",
              "\n",
              "      buttonEl.onclick = () => {\n",
              "        google.colab.notebook.generateWithVariable('final_autoarima_df');\n",
              "      }\n",
              "      })();\n",
              "    </script>\n",
              "  </div>\n",
              "\n",
              "    </div>\n",
              "  </div>\n"
            ],
            "application/vnd.google.colaboratory.intrinsic+json": {
              "type": "dataframe",
              "variable_name": "final_autoarima_df",
              "summary": "{\n  \"name\": \"final_autoarima_df\",\n  \"rows\": 22,\n  \"fields\": [\n    {\n      \"column\": \"sea\",\n      \"properties\": {\n        \"dtype\": \"string\",\n        \"num_unique_values\": 22,\n        \"samples\": [\n          \"ATLANTIC_OCEAN\",\n          \"SEA_of_JAPAN\",\n          \"ARABIAN_SEA\"\n        ],\n        \"semantic_type\": \"\",\n        \"description\": \"\"\n      }\n    },\n    {\n      \"column\": \"MASE\",\n      \"properties\": {\n        \"dtype\": \"number\",\n        \"std\": 1.079889372735755,\n        \"min\": 0.9374413141122474,\n        \"max\": 5.055698146283087,\n        \"num_unique_values\": 22,\n        \"samples\": [\n          1.7828353018460452,\n          2.57125848766258,\n          4.562676692641834\n        ],\n        \"semantic_type\": \"\",\n        \"description\": \"\"\n      }\n    },\n    {\n      \"column\": \"WQL\",\n      \"properties\": {\n        \"dtype\": \"number\",\n        \"std\": 0.15369053069712058,\n        \"min\": 0.04374948092565687,\n        \"max\": 0.6148729719784877,\n        \"num_unique_values\": 22,\n        \"samples\": [\n          0.110206809946614,\n          0.29068682794001216,\n          0.44141312910359276\n        ],\n        \"semantic_type\": \"\",\n        \"description\": \"\"\n      }\n    }\n  ]\n}"
            }
          },
          "metadata": {}
        }
      ],
      "source": [
        "def evaluate_with_autoarima(df: pd.DataFrame, horizon: int = 48, freq: str = \"D\", continuous_year=True) -> dict:\n",
        "    # Preprocessing per StatsForecast\n",
        "    df_clean = df.copy()\n",
        "    if continuous_year:\n",
        "        df_clean[\"ds\"] = df_clean[\"time\"].apply(fractional_year_to_date)\n",
        "    else:\n",
        "        df_clean[\"ds\"] = df_clean[\"time\"]\n",
        "    df_clean[\"y\"] = df_clean[\"sea_level_altitude\"]\n",
        "    df_clean[\"unique_id\"] = \"sea\"\n",
        "\n",
        "    train_df = df_clean[:-horizon]\n",
        "    test_df = df_clean[-horizon:]\n",
        "\n",
        "    # Fit AutoARIMA\n",
        "    sf = StatsForecast(models=[AutoARIMA()], freq=freq, n_jobs=1)\n",
        "    sf.fit(train_df[[\"unique_id\", \"ds\", \"y\"]])\n",
        "\n",
        "    # Predict con confidence intervals\n",
        "    forecast_df = sf.predict(h=horizon, level=[10, 20, 30, 40, 50, 60, 70, 80, 90])\n",
        "\n",
        "    # 🔧 create TEST_DATA using split and generate_instances as Chronos\n",
        "    full_target = df_clean[\"y\"].to_numpy()\n",
        "    series_dict = {\n",
        "        \"start\": pd.Period(train_df[\"ds\"].iloc[0], freq=freq),\n",
        "        \"target\": full_target,\n",
        "        \"item_id\": \"sea\"\n",
        "    }\n",
        "\n",
        "    # Use split to create the test template\n",
        "    _, test_template = split([series_dict], offset=-horizon)\n",
        "    test_data = test_template.generate_instances(prediction_length=horizon, windows=1)\n",
        "\n",
        "    # 🔧 create FORECASTS in the GluonTS format\n",
        "    y_pred = forecast_df[\"AutoARIMA\"].to_numpy()\n",
        "    forecast_start = pd.Period(test_df[\"ds\"].iloc[0], freq=freq)\n",
        "\n",
        "    # Map the quantiles in the correct format\n",
        "    quantiles = [0.1, 0.2, 0.3, 0.4, 0.5, 0.6, 0.7, 0.8, 0.9]\n",
        "    forecast_arrays = []\n",
        "\n",
        "    for q in quantiles:\n",
        "        if q < 0.5:\n",
        "            # For quantiles below 50%, look for “lo-XX” columns\n",
        "            level = int((1-q)*100)\n",
        "            col_name = f\"AutoARIMA-lo-{level}\"\n",
        "        elif q == 0.5:\n",
        "            # Median\n",
        "            col_name = \"AutoARIMA\"\n",
        "        else:\n",
        "            # For quantiles above 50%, look for “hi-XX” columns\n",
        "            level = int(q*100)\n",
        "            col_name = f\"AutoARIMA-hi-{level}\"\n",
        "\n",
        "        if col_name in forecast_df.columns:\n",
        "            forecast_arrays.append(forecast_df[col_name].to_numpy())\n",
        "        else:\n",
        "            # If not found, use central prediction\n",
        "            forecast_arrays.append(y_pred)\n",
        "\n",
        "    # Create QuantileForecast\n",
        "    forecasts = [QuantileForecast(\n",
        "        forecast_arrays=np.array(forecast_arrays),\n",
        "        forecast_keys=[str(q) for q in quantiles],\n",
        "        start_date=forecast_start,\n",
        "        item_id=\"sea\"\n",
        "    )]\n",
        "\n",
        "    # 🔧 EVALUATION using test_data directly\n",
        "\n",
        "    metrics = evaluate_forecasts(\n",
        "        forecasts=forecasts,\n",
        "        test_data=test_data,\n",
        "        metrics=[\n",
        "            MASE(),\n",
        "            MeanWeightedSumQuantileLoss(np.arange(0.1, 1.0, 0.1))\n",
        "        ]\n",
        "    )\n",
        "\n",
        "    return metrics\n",
        "\n",
        "# List of sea regions to evaluate\n",
        "sea_names = sea_list  # Replace or define sea_list earlier in your script\n",
        "\n",
        "rows = []\n",
        "results = []\n",
        "for sea in sea_names:\n",
        "    print(f\"\\n🌊 Evaluating AutoARIMA {sea}\")\n",
        "    try:\n",
        "        df = clean_data_by_the_sea(sea, keep_seasonality=True, inside_66=True)\n",
        "        metrics = evaluate_with_autoarima(df, horizon=48, freq=\"D\")\n",
        "        results.append({\"sea\": sea, **metrics})\n",
        "        mase = metrics[\"MASE[0.5]\"].item()\n",
        "        wql = metrics[\"mean_weighted_sum_quantile_loss\"].item()\n",
        "        rows.append((sea, mase, wql))\n",
        "\n",
        "    except Exception as e:\n",
        "        print(f\"Errore per {sea}: {e}\")\n",
        "        # Add NaN values for errors\n",
        "        rows.append((sea, float('nan'), float('nan')))\n",
        "\n",
        "# show results\n",
        "final_autoarima_df = pd.DataFrame(rows, columns=[\"sea\", \"MASE\", \"WQL\"])\n",
        "display(final_autoarima_df)\n",
        "\n",
        "# (optional) save CSV\n",
        "final_autoarima_df.to_csv(\"sea_level_autoarima_evaluation.csv\", index=False)"
      ]
    },
    {
      "cell_type": "markdown",
      "metadata": {
        "id": "9Jp7kaSSnJLE"
      },
      "source": [
        "# Upload the fine-tuned method"
      ]
    },
    {
      "cell_type": "code",
      "execution_count": 25,
      "metadata": {
        "colab": {
          "base_uri": "https://localhost:8080/",
          "height": 1000
        },
        "id": "rpY30x5vnLj4",
        "outputId": "77a34bc7-ec24-4b93-9030-88f2935ee8ef"
      },
      "outputs": [
        {
          "output_type": "stream",
          "name": "stderr",
          "text": [
            "`generation_config` default values have been modified to match model-specific defaults: {'decoder_start_token_id': 0}. If this is not desired, please set these values explicitly.\n"
          ]
        },
        {
          "output_type": "stream",
          "name": "stdout",
          "text": [
            "✅ Fine-tuned model loaded from: /content/drive/MyDrive/model_fine_tuned/last\n",
            "📊 Model Configuration:\n",
            " - Context length: 512\n",
            " - Prediction length: 64\n",
            " - Num samples: 20\n",
            "\n",
            "🌊 Evaluating Fine-tuned Chronos on ATLANTIC_OCEAN\n"
          ]
        },
        {
          "output_type": "stream",
          "name": "stderr",
          "text": [
            "0it [00:00, ?it/s]/usr/local/lib/python3.11/dist-packages/gluonts/time_feature/seasonality.py:47: FutureWarning: 'M' is deprecated and will be removed in a future version, please use 'ME' instead.\n",
            "  offset = pd.tseries.frequencies.to_offset(freq)\n",
            "1it [00:00, 167.00it/s]\n"
          ]
        },
        {
          "output_type": "stream",
          "name": "stdout",
          "text": [
            "\n",
            "🌊 Evaluating Fine-tuned Chronos on BALTIC_SEA\n"
          ]
        },
        {
          "output_type": "stream",
          "name": "stderr",
          "text": [
            "0it [00:00, ?it/s]/usr/local/lib/python3.11/dist-packages/gluonts/time_feature/seasonality.py:47: FutureWarning: 'M' is deprecated and will be removed in a future version, please use 'ME' instead.\n",
            "  offset = pd.tseries.frequencies.to_offset(freq)\n",
            "1it [00:00, 167.95it/s]\n"
          ]
        },
        {
          "output_type": "stream",
          "name": "stdout",
          "text": [
            "\n",
            "🌊 Evaluating Fine-tuned Chronos on GULF_of_AMERICA\n"
          ]
        },
        {
          "output_type": "stream",
          "name": "stderr",
          "text": [
            "0it [00:00, ?it/s]/usr/local/lib/python3.11/dist-packages/gluonts/time_feature/seasonality.py:47: FutureWarning: 'M' is deprecated and will be removed in a future version, please use 'ME' instead.\n",
            "  offset = pd.tseries.frequencies.to_offset(freq)\n",
            "1it [00:00, 162.62it/s]\n"
          ]
        },
        {
          "output_type": "stream",
          "name": "stdout",
          "text": [
            "\n",
            "🌊 Evaluating Fine-tuned Chronos on ANDAMAN_SEA\n"
          ]
        },
        {
          "output_type": "stream",
          "name": "stderr",
          "text": [
            "0it [00:00, ?it/s]/usr/local/lib/python3.11/dist-packages/gluonts/time_feature/seasonality.py:47: FutureWarning: 'M' is deprecated and will be removed in a future version, please use 'ME' instead.\n",
            "  offset = pd.tseries.frequencies.to_offset(freq)\n",
            "1it [00:00, 161.66it/s]\n"
          ]
        },
        {
          "output_type": "stream",
          "name": "stdout",
          "text": [
            "\n",
            "🌊 Evaluating Fine-tuned Chronos on BERING_SEA\n"
          ]
        },
        {
          "output_type": "stream",
          "name": "stderr",
          "text": [
            "0it [00:00, ?it/s]/usr/local/lib/python3.11/dist-packages/gluonts/time_feature/seasonality.py:47: FutureWarning: 'M' is deprecated and will be removed in a future version, please use 'ME' instead.\n",
            "  offset = pd.tseries.frequencies.to_offset(freq)\n",
            "1it [00:00, 174.58it/s]\n"
          ]
        },
        {
          "output_type": "stream",
          "name": "stdout",
          "text": [
            "\n",
            "🌊 Evaluating Fine-tuned Chronos on BAY_OF_BENGALS\n"
          ]
        },
        {
          "output_type": "stream",
          "name": "stderr",
          "text": [
            "0it [00:00, ?it/s]/usr/local/lib/python3.11/dist-packages/gluonts/time_feature/seasonality.py:47: FutureWarning: 'M' is deprecated and will be removed in a future version, please use 'ME' instead.\n",
            "  offset = pd.tseries.frequencies.to_offset(freq)\n",
            "1it [00:00, 173.79it/s]\n"
          ]
        },
        {
          "output_type": "stream",
          "name": "stdout",
          "text": [
            "\n",
            "🌊 Evaluating Fine-tuned Chronos on INDIAN_OCEAN\n"
          ]
        },
        {
          "output_type": "stream",
          "name": "stderr",
          "text": [
            "0it [00:00, ?it/s]/usr/local/lib/python3.11/dist-packages/gluonts/time_feature/seasonality.py:47: FutureWarning: 'M' is deprecated and will be removed in a future version, please use 'ME' instead.\n",
            "  offset = pd.tseries.frequencies.to_offset(freq)\n",
            "1it [00:00, 180.92it/s]\n"
          ]
        },
        {
          "output_type": "stream",
          "name": "stdout",
          "text": [
            "\n",
            "🌊 Evaluating Fine-tuned Chronos on ADRIATIC_SEA\n"
          ]
        },
        {
          "output_type": "stream",
          "name": "stderr",
          "text": [
            "0it [00:00, ?it/s]/usr/local/lib/python3.11/dist-packages/gluonts/time_feature/seasonality.py:47: FutureWarning: 'M' is deprecated and will be removed in a future version, please use 'ME' instead.\n",
            "  offset = pd.tseries.frequencies.to_offset(freq)\n",
            "1it [00:00, 173.46it/s]\n"
          ]
        },
        {
          "output_type": "stream",
          "name": "stdout",
          "text": [
            "\n",
            "🌊 Evaluating Fine-tuned Chronos on ARABIAN_SEA\n"
          ]
        },
        {
          "output_type": "stream",
          "name": "stderr",
          "text": [
            "0it [00:00, ?it/s]/usr/local/lib/python3.11/dist-packages/gluonts/time_feature/seasonality.py:47: FutureWarning: 'M' is deprecated and will be removed in a future version, please use 'ME' instead.\n",
            "  offset = pd.tseries.frequencies.to_offset(freq)\n",
            "1it [00:00, 173.44it/s]\n"
          ]
        },
        {
          "output_type": "stream",
          "name": "stdout",
          "text": [
            "\n",
            "🌊 Evaluating Fine-tuned Chronos on CARIBBEAN_SEA\n"
          ]
        },
        {
          "output_type": "stream",
          "name": "stderr",
          "text": [
            "0it [00:00, ?it/s]/usr/local/lib/python3.11/dist-packages/gluonts/time_feature/seasonality.py:47: FutureWarning: 'M' is deprecated and will be removed in a future version, please use 'ME' instead.\n",
            "  offset = pd.tseries.frequencies.to_offset(freq)\n",
            "1it [00:00, 183.44it/s]\n"
          ]
        },
        {
          "output_type": "stream",
          "name": "stdout",
          "text": [
            "\n",
            "🌊 Evaluating Fine-tuned Chronos on SEA_of_OKHOTSK\n"
          ]
        },
        {
          "output_type": "stream",
          "name": "stderr",
          "text": [
            "0it [00:00, ?it/s]/usr/local/lib/python3.11/dist-packages/gluonts/time_feature/seasonality.py:47: FutureWarning: 'M' is deprecated and will be removed in a future version, please use 'ME' instead.\n",
            "  offset = pd.tseries.frequencies.to_offset(freq)\n",
            "1it [00:00, 171.62it/s]\n"
          ]
        },
        {
          "output_type": "stream",
          "name": "stdout",
          "text": [
            "\n",
            "🌊 Evaluating Fine-tuned Chronos on PERSIAN_GULF\n"
          ]
        },
        {
          "output_type": "stream",
          "name": "stderr",
          "text": [
            "0it [00:00, ?it/s]/usr/local/lib/python3.11/dist-packages/gluonts/time_feature/seasonality.py:47: FutureWarning: 'M' is deprecated and will be removed in a future version, please use 'ME' instead.\n",
            "  offset = pd.tseries.frequencies.to_offset(freq)\n",
            "1it [00:00, 173.19it/s]\n"
          ]
        },
        {
          "output_type": "stream",
          "name": "stdout",
          "text": [
            "\n",
            "🌊 Evaluating Fine-tuned Chronos on NORTH_SEA\n"
          ]
        },
        {
          "output_type": "stream",
          "name": "stderr",
          "text": [
            "0it [00:00, ?it/s]/usr/local/lib/python3.11/dist-packages/gluonts/time_feature/seasonality.py:47: FutureWarning: 'M' is deprecated and will be removed in a future version, please use 'ME' instead.\n",
            "  offset = pd.tseries.frequencies.to_offset(freq)\n",
            "1it [00:00, 178.60it/s]\n"
          ]
        },
        {
          "output_type": "stream",
          "name": "stdout",
          "text": [
            "\n",
            "🌊 Evaluating Fine-tuned Chronos on SEA_of_JAPAN\n"
          ]
        },
        {
          "output_type": "stream",
          "name": "stderr",
          "text": [
            "0it [00:00, ?it/s]/usr/local/lib/python3.11/dist-packages/gluonts/time_feature/seasonality.py:47: FutureWarning: 'M' is deprecated and will be removed in a future version, please use 'ME' instead.\n",
            "  offset = pd.tseries.frequencies.to_offset(freq)\n",
            "1it [00:00, 174.33it/s]\n"
          ]
        },
        {
          "output_type": "stream",
          "name": "stdout",
          "text": [
            "\n",
            "🌊 Evaluating Fine-tuned Chronos on INDONESIAN\n"
          ]
        },
        {
          "output_type": "stream",
          "name": "stderr",
          "text": [
            "0it [00:00, ?it/s]/usr/local/lib/python3.11/dist-packages/gluonts/time_feature/seasonality.py:47: FutureWarning: 'M' is deprecated and will be removed in a future version, please use 'ME' instead.\n",
            "  offset = pd.tseries.frequencies.to_offset(freq)\n",
            "1it [00:00, 179.01it/s]\n"
          ]
        },
        {
          "output_type": "stream",
          "name": "stdout",
          "text": [
            "\n",
            "🌊 Evaluating Fine-tuned Chronos on PACIFIC_OCEAN\n"
          ]
        },
        {
          "output_type": "stream",
          "name": "stderr",
          "text": [
            "0it [00:00, ?it/s]/usr/local/lib/python3.11/dist-packages/gluonts/time_feature/seasonality.py:47: FutureWarning: 'M' is deprecated and will be removed in a future version, please use 'ME' instead.\n",
            "  offset = pd.tseries.frequencies.to_offset(freq)\n",
            "1it [00:00, 169.67it/s]\n"
          ]
        },
        {
          "output_type": "stream",
          "name": "stdout",
          "text": [
            "\n",
            "🌊 Evaluating Fine-tuned Chronos on MEDITERRANEAN_SEA\n"
          ]
        },
        {
          "output_type": "stream",
          "name": "stderr",
          "text": [
            "0it [00:00, ?it/s]/usr/local/lib/python3.11/dist-packages/gluonts/time_feature/seasonality.py:47: FutureWarning: 'M' is deprecated and will be removed in a future version, please use 'ME' instead.\n",
            "  offset = pd.tseries.frequencies.to_offset(freq)\n",
            "1it [00:00, 178.00it/s]\n"
          ]
        },
        {
          "output_type": "stream",
          "name": "stdout",
          "text": [
            "\n",
            "🌊 Evaluating Fine-tuned Chronos on NORTH_PACIFIC_OCEAN\n"
          ]
        },
        {
          "output_type": "stream",
          "name": "stderr",
          "text": [
            "0it [00:00, ?it/s]/usr/local/lib/python3.11/dist-packages/gluonts/time_feature/seasonality.py:47: FutureWarning: 'M' is deprecated and will be removed in a future version, please use 'ME' instead.\n",
            "  offset = pd.tseries.frequencies.to_offset(freq)\n",
            "1it [00:00, 170.08it/s]\n"
          ]
        },
        {
          "output_type": "stream",
          "name": "stdout",
          "text": [
            "\n",
            "🌊 Evaluating Fine-tuned Chronos on NORTH_ATLANTIC_OCEAN\n"
          ]
        },
        {
          "output_type": "stream",
          "name": "stderr",
          "text": [
            "0it [00:00, ?it/s]/usr/local/lib/python3.11/dist-packages/gluonts/time_feature/seasonality.py:47: FutureWarning: 'M' is deprecated and will be removed in a future version, please use 'ME' instead.\n",
            "  offset = pd.tseries.frequencies.to_offset(freq)\n",
            "1it [00:00, 179.60it/s]\n"
          ]
        },
        {
          "output_type": "stream",
          "name": "stdout",
          "text": [
            "\n",
            "🌊 Evaluating Fine-tuned Chronos on TROPICS\n"
          ]
        },
        {
          "output_type": "stream",
          "name": "stderr",
          "text": [
            "0it [00:00, ?it/s]/usr/local/lib/python3.11/dist-packages/gluonts/time_feature/seasonality.py:47: FutureWarning: 'M' is deprecated and will be removed in a future version, please use 'ME' instead.\n",
            "  offset = pd.tseries.frequencies.to_offset(freq)\n",
            "1it [00:00, 173.49it/s]\n"
          ]
        },
        {
          "output_type": "stream",
          "name": "stdout",
          "text": [
            "\n",
            "🌊 Evaluating Fine-tuned Chronos on SOUTH_CHINA_SEA\n"
          ]
        },
        {
          "output_type": "stream",
          "name": "stderr",
          "text": [
            "0it [00:00, ?it/s]/usr/local/lib/python3.11/dist-packages/gluonts/time_feature/seasonality.py:47: FutureWarning: 'M' is deprecated and will be removed in a future version, please use 'ME' instead.\n",
            "  offset = pd.tseries.frequencies.to_offset(freq)\n",
            "1it [00:00, 169.87it/s]\n"
          ]
        },
        {
          "output_type": "stream",
          "name": "stdout",
          "text": [
            "\n",
            "🌊 Evaluating Fine-tuned Chronos on YELLOW_SEA\n"
          ]
        },
        {
          "output_type": "stream",
          "name": "stderr",
          "text": [
            "0it [00:00, ?it/s]/usr/local/lib/python3.11/dist-packages/gluonts/time_feature/seasonality.py:47: FutureWarning: 'M' is deprecated and will be removed in a future version, please use 'ME' instead.\n",
            "  offset = pd.tseries.frequencies.to_offset(freq)\n",
            "1it [00:00, 194.98it/s]\n"
          ]
        },
        {
          "output_type": "display_data",
          "data": {
            "text/plain": [
              "                     sea      MASE       WQL\n",
              "0         ATLANTIC_OCEAN  0.982069  0.140146\n",
              "1             BALTIC_SEA  0.520002  0.351836\n",
              "2        GULF_of_AMERICA  0.381038  0.116004\n",
              "3            ANDAMAN_SEA  0.479224  0.221878\n",
              "4             BERING_SEA  0.894966  0.366477\n",
              "5         BAY_OF_BENGALS  0.668449  0.159271\n",
              "6           INDIAN_OCEAN  0.721272  0.078386\n",
              "7           ADRIATIC_SEA  0.585593  0.293679\n",
              "8            ARABIAN_SEA  0.493810  0.203340\n",
              "9          CARIBBEAN_SEA  0.629895  0.194059\n",
              "10        SEA_of_OKHOTSK  1.009443  0.302193\n",
              "11          PERSIAN_GULF  0.612917  0.255101\n",
              "12             NORTH_SEA  0.508702  0.246832\n",
              "13          SEA_of_JAPAN  0.366762  0.161778\n",
              "14            INDONESIAN  0.929579  0.433187\n",
              "15         PACIFIC_OCEAN  1.288609  0.092461\n",
              "16     MEDITERRANEAN_SEA  0.466064  0.216726\n",
              "17   NORTH_PACIFIC_OCEAN  0.333129  0.087151\n",
              "18  NORTH_ATLANTIC_OCEAN  0.345362  0.119174\n",
              "19               TROPICS  1.068862  0.062123\n",
              "20       SOUTH_CHINA_SEA  1.002954  0.420955\n",
              "21            YELLOW_SEA  0.361130  0.207005"
            ],
            "text/html": [
              "\n",
              "  <div id=\"df-6ab7b6c3-d6f1-4fce-8557-de29bb2ed446\" class=\"colab-df-container\">\n",
              "    <div>\n",
              "<style scoped>\n",
              "    .dataframe tbody tr th:only-of-type {\n",
              "        vertical-align: middle;\n",
              "    }\n",
              "\n",
              "    .dataframe tbody tr th {\n",
              "        vertical-align: top;\n",
              "    }\n",
              "\n",
              "    .dataframe thead th {\n",
              "        text-align: right;\n",
              "    }\n",
              "</style>\n",
              "<table border=\"1\" class=\"dataframe\">\n",
              "  <thead>\n",
              "    <tr style=\"text-align: right;\">\n",
              "      <th></th>\n",
              "      <th>sea</th>\n",
              "      <th>MASE</th>\n",
              "      <th>WQL</th>\n",
              "    </tr>\n",
              "  </thead>\n",
              "  <tbody>\n",
              "    <tr>\n",
              "      <th>0</th>\n",
              "      <td>ATLANTIC_OCEAN</td>\n",
              "      <td>0.982069</td>\n",
              "      <td>0.140146</td>\n",
              "    </tr>\n",
              "    <tr>\n",
              "      <th>1</th>\n",
              "      <td>BALTIC_SEA</td>\n",
              "      <td>0.520002</td>\n",
              "      <td>0.351836</td>\n",
              "    </tr>\n",
              "    <tr>\n",
              "      <th>2</th>\n",
              "      <td>GULF_of_AMERICA</td>\n",
              "      <td>0.381038</td>\n",
              "      <td>0.116004</td>\n",
              "    </tr>\n",
              "    <tr>\n",
              "      <th>3</th>\n",
              "      <td>ANDAMAN_SEA</td>\n",
              "      <td>0.479224</td>\n",
              "      <td>0.221878</td>\n",
              "    </tr>\n",
              "    <tr>\n",
              "      <th>4</th>\n",
              "      <td>BERING_SEA</td>\n",
              "      <td>0.894966</td>\n",
              "      <td>0.366477</td>\n",
              "    </tr>\n",
              "    <tr>\n",
              "      <th>5</th>\n",
              "      <td>BAY_OF_BENGALS</td>\n",
              "      <td>0.668449</td>\n",
              "      <td>0.159271</td>\n",
              "    </tr>\n",
              "    <tr>\n",
              "      <th>6</th>\n",
              "      <td>INDIAN_OCEAN</td>\n",
              "      <td>0.721272</td>\n",
              "      <td>0.078386</td>\n",
              "    </tr>\n",
              "    <tr>\n",
              "      <th>7</th>\n",
              "      <td>ADRIATIC_SEA</td>\n",
              "      <td>0.585593</td>\n",
              "      <td>0.293679</td>\n",
              "    </tr>\n",
              "    <tr>\n",
              "      <th>8</th>\n",
              "      <td>ARABIAN_SEA</td>\n",
              "      <td>0.493810</td>\n",
              "      <td>0.203340</td>\n",
              "    </tr>\n",
              "    <tr>\n",
              "      <th>9</th>\n",
              "      <td>CARIBBEAN_SEA</td>\n",
              "      <td>0.629895</td>\n",
              "      <td>0.194059</td>\n",
              "    </tr>\n",
              "    <tr>\n",
              "      <th>10</th>\n",
              "      <td>SEA_of_OKHOTSK</td>\n",
              "      <td>1.009443</td>\n",
              "      <td>0.302193</td>\n",
              "    </tr>\n",
              "    <tr>\n",
              "      <th>11</th>\n",
              "      <td>PERSIAN_GULF</td>\n",
              "      <td>0.612917</td>\n",
              "      <td>0.255101</td>\n",
              "    </tr>\n",
              "    <tr>\n",
              "      <th>12</th>\n",
              "      <td>NORTH_SEA</td>\n",
              "      <td>0.508702</td>\n",
              "      <td>0.246832</td>\n",
              "    </tr>\n",
              "    <tr>\n",
              "      <th>13</th>\n",
              "      <td>SEA_of_JAPAN</td>\n",
              "      <td>0.366762</td>\n",
              "      <td>0.161778</td>\n",
              "    </tr>\n",
              "    <tr>\n",
              "      <th>14</th>\n",
              "      <td>INDONESIAN</td>\n",
              "      <td>0.929579</td>\n",
              "      <td>0.433187</td>\n",
              "    </tr>\n",
              "    <tr>\n",
              "      <th>15</th>\n",
              "      <td>PACIFIC_OCEAN</td>\n",
              "      <td>1.288609</td>\n",
              "      <td>0.092461</td>\n",
              "    </tr>\n",
              "    <tr>\n",
              "      <th>16</th>\n",
              "      <td>MEDITERRANEAN_SEA</td>\n",
              "      <td>0.466064</td>\n",
              "      <td>0.216726</td>\n",
              "    </tr>\n",
              "    <tr>\n",
              "      <th>17</th>\n",
              "      <td>NORTH_PACIFIC_OCEAN</td>\n",
              "      <td>0.333129</td>\n",
              "      <td>0.087151</td>\n",
              "    </tr>\n",
              "    <tr>\n",
              "      <th>18</th>\n",
              "      <td>NORTH_ATLANTIC_OCEAN</td>\n",
              "      <td>0.345362</td>\n",
              "      <td>0.119174</td>\n",
              "    </tr>\n",
              "    <tr>\n",
              "      <th>19</th>\n",
              "      <td>TROPICS</td>\n",
              "      <td>1.068862</td>\n",
              "      <td>0.062123</td>\n",
              "    </tr>\n",
              "    <tr>\n",
              "      <th>20</th>\n",
              "      <td>SOUTH_CHINA_SEA</td>\n",
              "      <td>1.002954</td>\n",
              "      <td>0.420955</td>\n",
              "    </tr>\n",
              "    <tr>\n",
              "      <th>21</th>\n",
              "      <td>YELLOW_SEA</td>\n",
              "      <td>0.361130</td>\n",
              "      <td>0.207005</td>\n",
              "    </tr>\n",
              "  </tbody>\n",
              "</table>\n",
              "</div>\n",
              "    <div class=\"colab-df-buttons\">\n",
              "\n",
              "  <div class=\"colab-df-container\">\n",
              "    <button class=\"colab-df-convert\" onclick=\"convertToInteractive('df-6ab7b6c3-d6f1-4fce-8557-de29bb2ed446')\"\n",
              "            title=\"Convert this dataframe to an interactive table.\"\n",
              "            style=\"display:none;\">\n",
              "\n",
              "  <svg xmlns=\"http://www.w3.org/2000/svg\" height=\"24px\" viewBox=\"0 -960 960 960\">\n",
              "    <path d=\"M120-120v-720h720v720H120Zm60-500h600v-160H180v160Zm220 220h160v-160H400v160Zm0 220h160v-160H400v160ZM180-400h160v-160H180v160Zm440 0h160v-160H620v160ZM180-180h160v-160H180v160Zm440 0h160v-160H620v160Z\"/>\n",
              "  </svg>\n",
              "    </button>\n",
              "\n",
              "  <style>\n",
              "    .colab-df-container {\n",
              "      display:flex;\n",
              "      gap: 12px;\n",
              "    }\n",
              "\n",
              "    .colab-df-convert {\n",
              "      background-color: #E8F0FE;\n",
              "      border: none;\n",
              "      border-radius: 50%;\n",
              "      cursor: pointer;\n",
              "      display: none;\n",
              "      fill: #1967D2;\n",
              "      height: 32px;\n",
              "      padding: 0 0 0 0;\n",
              "      width: 32px;\n",
              "    }\n",
              "\n",
              "    .colab-df-convert:hover {\n",
              "      background-color: #E2EBFA;\n",
              "      box-shadow: 0px 1px 2px rgba(60, 64, 67, 0.3), 0px 1px 3px 1px rgba(60, 64, 67, 0.15);\n",
              "      fill: #174EA6;\n",
              "    }\n",
              "\n",
              "    .colab-df-buttons div {\n",
              "      margin-bottom: 4px;\n",
              "    }\n",
              "\n",
              "    [theme=dark] .colab-df-convert {\n",
              "      background-color: #3B4455;\n",
              "      fill: #D2E3FC;\n",
              "    }\n",
              "\n",
              "    [theme=dark] .colab-df-convert:hover {\n",
              "      background-color: #434B5C;\n",
              "      box-shadow: 0px 1px 3px 1px rgba(0, 0, 0, 0.15);\n",
              "      filter: drop-shadow(0px 1px 2px rgba(0, 0, 0, 0.3));\n",
              "      fill: #FFFFFF;\n",
              "    }\n",
              "  </style>\n",
              "\n",
              "    <script>\n",
              "      const buttonEl =\n",
              "        document.querySelector('#df-6ab7b6c3-d6f1-4fce-8557-de29bb2ed446 button.colab-df-convert');\n",
              "      buttonEl.style.display =\n",
              "        google.colab.kernel.accessAllowed ? 'block' : 'none';\n",
              "\n",
              "      async function convertToInteractive(key) {\n",
              "        const element = document.querySelector('#df-6ab7b6c3-d6f1-4fce-8557-de29bb2ed446');\n",
              "        const dataTable =\n",
              "          await google.colab.kernel.invokeFunction('convertToInteractive',\n",
              "                                                    [key], {});\n",
              "        if (!dataTable) return;\n",
              "\n",
              "        const docLinkHtml = 'Like what you see? Visit the ' +\n",
              "          '<a target=\"_blank\" href=https://colab.research.google.com/notebooks/data_table.ipynb>data table notebook</a>'\n",
              "          + ' to learn more about interactive tables.';\n",
              "        element.innerHTML = '';\n",
              "        dataTable['output_type'] = 'display_data';\n",
              "        await google.colab.output.renderOutput(dataTable, element);\n",
              "        const docLink = document.createElement('div');\n",
              "        docLink.innerHTML = docLinkHtml;\n",
              "        element.appendChild(docLink);\n",
              "      }\n",
              "    </script>\n",
              "  </div>\n",
              "\n",
              "\n",
              "    <div id=\"df-ea52ab53-0c58-4041-b2f0-04389f580f7d\">\n",
              "      <button class=\"colab-df-quickchart\" onclick=\"quickchart('df-ea52ab53-0c58-4041-b2f0-04389f580f7d')\"\n",
              "                title=\"Suggest charts\"\n",
              "                style=\"display:none;\">\n",
              "\n",
              "<svg xmlns=\"http://www.w3.org/2000/svg\" height=\"24px\"viewBox=\"0 0 24 24\"\n",
              "     width=\"24px\">\n",
              "    <g>\n",
              "        <path d=\"M19 3H5c-1.1 0-2 .9-2 2v14c0 1.1.9 2 2 2h14c1.1 0 2-.9 2-2V5c0-1.1-.9-2-2-2zM9 17H7v-7h2v7zm4 0h-2V7h2v10zm4 0h-2v-4h2v4z\"/>\n",
              "    </g>\n",
              "</svg>\n",
              "      </button>\n",
              "\n",
              "<style>\n",
              "  .colab-df-quickchart {\n",
              "      --bg-color: #E8F0FE;\n",
              "      --fill-color: #1967D2;\n",
              "      --hover-bg-color: #E2EBFA;\n",
              "      --hover-fill-color: #174EA6;\n",
              "      --disabled-fill-color: #AAA;\n",
              "      --disabled-bg-color: #DDD;\n",
              "  }\n",
              "\n",
              "  [theme=dark] .colab-df-quickchart {\n",
              "      --bg-color: #3B4455;\n",
              "      --fill-color: #D2E3FC;\n",
              "      --hover-bg-color: #434B5C;\n",
              "      --hover-fill-color: #FFFFFF;\n",
              "      --disabled-bg-color: #3B4455;\n",
              "      --disabled-fill-color: #666;\n",
              "  }\n",
              "\n",
              "  .colab-df-quickchart {\n",
              "    background-color: var(--bg-color);\n",
              "    border: none;\n",
              "    border-radius: 50%;\n",
              "    cursor: pointer;\n",
              "    display: none;\n",
              "    fill: var(--fill-color);\n",
              "    height: 32px;\n",
              "    padding: 0;\n",
              "    width: 32px;\n",
              "  }\n",
              "\n",
              "  .colab-df-quickchart:hover {\n",
              "    background-color: var(--hover-bg-color);\n",
              "    box-shadow: 0 1px 2px rgba(60, 64, 67, 0.3), 0 1px 3px 1px rgba(60, 64, 67, 0.15);\n",
              "    fill: var(--button-hover-fill-color);\n",
              "  }\n",
              "\n",
              "  .colab-df-quickchart-complete:disabled,\n",
              "  .colab-df-quickchart-complete:disabled:hover {\n",
              "    background-color: var(--disabled-bg-color);\n",
              "    fill: var(--disabled-fill-color);\n",
              "    box-shadow: none;\n",
              "  }\n",
              "\n",
              "  .colab-df-spinner {\n",
              "    border: 2px solid var(--fill-color);\n",
              "    border-color: transparent;\n",
              "    border-bottom-color: var(--fill-color);\n",
              "    animation:\n",
              "      spin 1s steps(1) infinite;\n",
              "  }\n",
              "\n",
              "  @keyframes spin {\n",
              "    0% {\n",
              "      border-color: transparent;\n",
              "      border-bottom-color: var(--fill-color);\n",
              "      border-left-color: var(--fill-color);\n",
              "    }\n",
              "    20% {\n",
              "      border-color: transparent;\n",
              "      border-left-color: var(--fill-color);\n",
              "      border-top-color: var(--fill-color);\n",
              "    }\n",
              "    30% {\n",
              "      border-color: transparent;\n",
              "      border-left-color: var(--fill-color);\n",
              "      border-top-color: var(--fill-color);\n",
              "      border-right-color: var(--fill-color);\n",
              "    }\n",
              "    40% {\n",
              "      border-color: transparent;\n",
              "      border-right-color: var(--fill-color);\n",
              "      border-top-color: var(--fill-color);\n",
              "    }\n",
              "    60% {\n",
              "      border-color: transparent;\n",
              "      border-right-color: var(--fill-color);\n",
              "    }\n",
              "    80% {\n",
              "      border-color: transparent;\n",
              "      border-right-color: var(--fill-color);\n",
              "      border-bottom-color: var(--fill-color);\n",
              "    }\n",
              "    90% {\n",
              "      border-color: transparent;\n",
              "      border-bottom-color: var(--fill-color);\n",
              "    }\n",
              "  }\n",
              "</style>\n",
              "\n",
              "      <script>\n",
              "        async function quickchart(key) {\n",
              "          const quickchartButtonEl =\n",
              "            document.querySelector('#' + key + ' button');\n",
              "          quickchartButtonEl.disabled = true;  // To prevent multiple clicks.\n",
              "          quickchartButtonEl.classList.add('colab-df-spinner');\n",
              "          try {\n",
              "            const charts = await google.colab.kernel.invokeFunction(\n",
              "                'suggestCharts', [key], {});\n",
              "          } catch (error) {\n",
              "            console.error('Error during call to suggestCharts:', error);\n",
              "          }\n",
              "          quickchartButtonEl.classList.remove('colab-df-spinner');\n",
              "          quickchartButtonEl.classList.add('colab-df-quickchart-complete');\n",
              "        }\n",
              "        (() => {\n",
              "          let quickchartButtonEl =\n",
              "            document.querySelector('#df-ea52ab53-0c58-4041-b2f0-04389f580f7d button');\n",
              "          quickchartButtonEl.style.display =\n",
              "            google.colab.kernel.accessAllowed ? 'block' : 'none';\n",
              "        })();\n",
              "      </script>\n",
              "    </div>\n",
              "\n",
              "  <div id=\"id_d2194f4f-4ca2-4a5f-8b4d-385c0700115c\">\n",
              "    <style>\n",
              "      .colab-df-generate {\n",
              "        background-color: #E8F0FE;\n",
              "        border: none;\n",
              "        border-radius: 50%;\n",
              "        cursor: pointer;\n",
              "        display: none;\n",
              "        fill: #1967D2;\n",
              "        height: 32px;\n",
              "        padding: 0 0 0 0;\n",
              "        width: 32px;\n",
              "      }\n",
              "\n",
              "      .colab-df-generate:hover {\n",
              "        background-color: #E2EBFA;\n",
              "        box-shadow: 0px 1px 2px rgba(60, 64, 67, 0.3), 0px 1px 3px 1px rgba(60, 64, 67, 0.15);\n",
              "        fill: #174EA6;\n",
              "      }\n",
              "\n",
              "      [theme=dark] .colab-df-generate {\n",
              "        background-color: #3B4455;\n",
              "        fill: #D2E3FC;\n",
              "      }\n",
              "\n",
              "      [theme=dark] .colab-df-generate:hover {\n",
              "        background-color: #434B5C;\n",
              "        box-shadow: 0px 1px 3px 1px rgba(0, 0, 0, 0.15);\n",
              "        filter: drop-shadow(0px 1px 2px rgba(0, 0, 0, 0.3));\n",
              "        fill: #FFFFFF;\n",
              "      }\n",
              "    </style>\n",
              "    <button class=\"colab-df-generate\" onclick=\"generateWithVariable('final_chronos_finetuned_df')\"\n",
              "            title=\"Generate code using this dataframe.\"\n",
              "            style=\"display:none;\">\n",
              "\n",
              "  <svg xmlns=\"http://www.w3.org/2000/svg\" height=\"24px\"viewBox=\"0 0 24 24\"\n",
              "       width=\"24px\">\n",
              "    <path d=\"M7,19H8.4L18.45,9,17,7.55,7,17.6ZM5,21V16.75L18.45,3.32a2,2,0,0,1,2.83,0l1.4,1.43a1.91,1.91,0,0,1,.58,1.4,1.91,1.91,0,0,1-.58,1.4L9.25,21ZM18.45,9,17,7.55Zm-12,3A5.31,5.31,0,0,0,4.9,8.1,5.31,5.31,0,0,0,1,6.5,5.31,5.31,0,0,0,4.9,4.9,5.31,5.31,0,0,0,6.5,1,5.31,5.31,0,0,0,8.1,4.9,5.31,5.31,0,0,0,12,6.5,5.46,5.46,0,0,0,6.5,12Z\"/>\n",
              "  </svg>\n",
              "    </button>\n",
              "    <script>\n",
              "      (() => {\n",
              "      const buttonEl =\n",
              "        document.querySelector('#id_d2194f4f-4ca2-4a5f-8b4d-385c0700115c button.colab-df-generate');\n",
              "      buttonEl.style.display =\n",
              "        google.colab.kernel.accessAllowed ? 'block' : 'none';\n",
              "\n",
              "      buttonEl.onclick = () => {\n",
              "        google.colab.notebook.generateWithVariable('final_chronos_finetuned_df');\n",
              "      }\n",
              "      })();\n",
              "    </script>\n",
              "  </div>\n",
              "\n",
              "    </div>\n",
              "  </div>\n"
            ],
            "application/vnd.google.colaboratory.intrinsic+json": {
              "type": "dataframe",
              "variable_name": "final_chronos_finetuned_df",
              "summary": "{\n  \"name\": \"final_chronos_finetuned_df\",\n  \"rows\": 22,\n  \"fields\": [\n    {\n      \"column\": \"sea\",\n      \"properties\": {\n        \"dtype\": \"string\",\n        \"num_unique_values\": 22,\n        \"samples\": [\n          \"ATLANTIC_OCEAN\",\n          \"SEA_of_JAPAN\",\n          \"ARABIAN_SEA\"\n        ],\n        \"semantic_type\": \"\",\n        \"description\": \"\"\n      }\n    },\n    {\n      \"column\": \"MASE\",\n      \"properties\": {\n        \"dtype\": \"number\",\n        \"std\": 0.2798595674503196,\n        \"min\": 0.3331291604751505,\n        \"max\": 1.2886092762219568,\n        \"num_unique_values\": 22,\n        \"samples\": [\n          0.98206887259732,\n          0.3667619695008384,\n          0.49380959481065406\n        ],\n        \"semantic_type\": \"\",\n        \"description\": \"\"\n      }\n    },\n    {\n      \"column\": \"WQL\",\n      \"properties\": {\n        \"dtype\": \"number\",\n        \"std\": 0.10969990493054652,\n        \"min\": 0.06212304529041911,\n        \"max\": 0.4331867314203956,\n        \"num_unique_values\": 22,\n        \"samples\": [\n          0.14014598557361124,\n          0.16177754975050554,\n          0.20333951677302703\n        ],\n        \"semantic_type\": \"\",\n        \"description\": \"\"\n      }\n    }\n  ]\n}"
            }
          },
          "metadata": {}
        }
      ],
      "source": [
        "# Load the fine-tuned model from local directory\n",
        "from chronos import ChronosPipeline\n",
        "\n",
        "# Replace this with the path to your fine-tuned model checkpoint\n",
        "model_path = \"/content/drive/MyDrive/model_fine_tuned/last\"  # Change this path!\n",
        "\n",
        "# Load the fine-tuned model\n",
        "pipeline_ft = ChronosPipeline.from_pretrained(\n",
        "    model_path,\n",
        "    device_map=\"cpu\",  # use \"cpu\" for CPU inference\n",
        "    torch_dtype=torch.bfloat16,\n",
        ")\n",
        "\n",
        "print(f\"✅ Fine-tuned model loaded from: {model_path}\")\n",
        "\n",
        "# Verify model configuration\n",
        "print(f\"📊 Model Configuration:\")\n",
        "print(f\" - Context length: {pipeline_ft.model.config.context_length}\")\n",
        "print(f\" - Prediction length: {pipeline_ft.model.config.prediction_length}\")\n",
        "print(f\" - Num samples: {pipeline_ft.model.config.num_samples}\")\n",
        "\n",
        "# Now evaluate the fine-tuned model\n",
        "# Example: Evaluation on all selected seas\n",
        "sea_names = sea_list\n",
        "\n",
        "rows = []\n",
        "results = []\n",
        "for sea in sea_names:\n",
        "    print(f\"\\n🌊 Evaluating Fine-tuned Chronos on {sea}\")\n",
        "    try:\n",
        "        df = clean_data_by_the_sea(sea, keep_seasonality=True, inside_66=True)\n",
        "        entry = to_gluonts_entry(df)\n",
        "        metrics = evaluate_sea_level_series(entry, pipeline_ft, prediction_length=48)\n",
        "        results.append({\"sea\": sea, **metrics})\n",
        "        mase = metrics[\"MASE[0.5]\"].item()\n",
        "        wql = metrics[\"mean_weighted_sum_quantile_loss\"].item()\n",
        "        rows.append((sea, mase, wql))\n",
        "\n",
        "    except Exception as e:\n",
        "        print(f\"❌ Error on {sea}: {e}\")\n",
        "        rows.append((sea, float('nan'), float('nan')))\n",
        "\n",
        "# Display results\n",
        "final_chronos_finetuned_df = pd.DataFrame(rows, columns=[\"sea\", \"MASE\", \"WQL\"])\n",
        "display(final_chronos_finetuned_df)\n",
        "\n",
        "# Save results to CSV with specific name for fine-tuned model\n",
        "final_chronos_finetuned_df.to_csv(\"sea_level_chronos_finetuned_evaluation.csv\", index=False)"
      ]
    },
    {
      "cell_type": "code",
      "source": [
        "plot_forecast(sea_df['sea_level_altitude'][1100:], pipeline=pipeline_ft, n_forecast=50)"
      ],
      "metadata": {
        "colab": {
          "base_uri": "https://localhost:8080/",
          "height": 623
        },
        "id": "-FkN2-7U7jl1",
        "outputId": "7faaa07d-a02b-41eb-ea59-9452eb47cef5"
      },
      "execution_count": 26,
      "outputs": [
        {
          "output_type": "display_data",
          "data": {
            "text/plain": [
              "<Figure size 1600x800 with 1 Axes>"
            ],
            "image/png": "[encoded data removed]"
          },
          "metadata": {}
        }
      ]
    },
    {
      "cell_type": "markdown",
      "source": [
        "### Testing Chronos and the fine tuned method on the dataset from Copernicus"
      ],
      "metadata": {
        "id": "v-8zjvosbwIu"
      }
    },
    {
      "cell_type": "code",
      "source": [
        "# Load the Copernicus dataset\n",
        "df_test = pd.read_csv(\"/content/drive/MyDrive/dataset/Dataset_sea_level_extension/DATASET_COPERNICUS/COPERNICUS_sea_level_indicators_climate_global_area_averaged_DATA.csv\")\n",
        "df_test = df_test.rename(columns={\"Time (years)\": \"time\", \"Mean Sea Level (cm)\": \"sea_level_altitude\"})\n",
        "df_test = df_test[[\"time\", \"sea_level_altitude\"]]\n",
        "# sea_level_altitude in mm\n",
        "df_test[\"sea_level_altitude\"] = df_test[\"sea_level_altitude\"].apply(lambda x: x*10)"
      ],
      "metadata": {
        "id": "rnzUrmcjcIIc"
      },
      "execution_count": 27,
      "outputs": []
    },
    {
      "cell_type": "code",
      "source": [
        "# Load the CSV, skipping the first 6 rows (metadata/header info)\n",
        "df = pd.read_csv(\"/content/drive/MyDrive/dataset/Dataset_sea_level_extension/DATASET_NATURE_ARTICLE/global_mean_sea_level/slr_sla_gbl_keep_all_66.csv\", skiprows=6)\n",
        "\n",
        "# Rename the first column to 'time' for clarity\n",
        "df.rename(columns={df.columns[0]: \"time\"}, inplace=True)\n",
        "\n",
        "# Compute the mean value per row (ignoring NaNs), excluding the first column\n",
        "df[\"sea_level_altitude\"] = df.iloc[:, 1:].mean(axis=1, skipna=True)\n",
        "\n",
        "# Create the final DataFrame with only the required columns\n",
        "final_global_mean_df = df[[\"time\", \"sea_level_altitude\"]]"
      ],
      "metadata": {
        "id": "j_8IKFNSLtuv"
      },
      "execution_count": 28,
      "outputs": []
    },
    {
      "cell_type": "code",
      "source": [
        "# Plotting\n",
        "plt.ylabel(\"mm\")\n",
        "plt.xlabel(\"Year\")\n",
        "plt.grid()\n",
        "plt.plot(df_test[\"time\"], df_test[\"sea_level_altitude\"])\n",
        "plt.title(\"(global trend mean of sea level)\")\n",
        "plt.show()"
      ],
      "metadata": {
        "id": "oXWu_gJkiiC3",
        "colab": {
          "base_uri": "https://localhost:8080/",
          "height": 472
        },
        "outputId": "fe936a7b-f157-46a2-e5f6-e5c2e467dc9c"
      },
      "execution_count": 29,
      "outputs": [
        {
          "output_type": "display_data",
          "data": {
            "text/plain": [
              "<Figure size 640x480 with 1 Axes>"
            ],
            "image/png": "[encoded data removed]"
          },
          "metadata": {}
        }
      ]
    },
    {
      "cell_type": "code",
      "source": [
        "print(f\"\\n🌊 Evaluating Chronos on Copernicus data\")\n",
        "entry = to_gluonts_entry(final_global_mean_df)\n",
        "metrics = evaluate_sea_level_series(entry, pipeline, prediction_length=48)\n",
        "mase = metrics[\"MASE[0.5]\"].item()\n",
        "wql = metrics[\"mean_weighted_sum_quantile_loss\"].item()\n",
        "mase, wql"
      ],
      "metadata": {
        "id": "PL0ysDx9ia3O",
        "colab": {
          "base_uri": "https://localhost:8080/"
        },
        "outputId": "0e948d4d-1ce6-4185-9727-ac44c4e6def1"
      },
      "execution_count": 30,
      "outputs": [
        {
          "output_type": "stream",
          "name": "stdout",
          "text": [
            "\n",
            "🌊 Evaluating Chronos on Copernicus data\n"
          ]
        },
        {
          "output_type": "stream",
          "name": "stderr",
          "text": [
            "/tmp/ipython-input-21-2300273347.py:3: SettingWithCopyWarning: \n",
            "A value is trying to be set on a copy of a slice from a DataFrame.\n",
            "Try using .loc[row_indexer,col_indexer] = value instead\n",
            "\n",
            "See the caveats in the documentation: https://pandas.pydata.org/pandas-docs/stable/user_guide/indexing.html#returning-a-view-versus-a-copy\n",
            "  df[\"time\"] = pd.to_datetime(df[\"time\"])\n",
            "0it [00:00, ?it/s]/usr/local/lib/python3.11/dist-packages/gluonts/time_feature/seasonality.py:47: FutureWarning: 'M' is deprecated and will be removed in a future version, please use 'ME' instead.\n",
            "  offset = pd.tseries.frequencies.to_offset(freq)\n",
            "1it [00:00, 160.32it/s]\n"
          ]
        },
        {
          "output_type": "execute_result",
          "data": {
            "text/plain": [
              "(1.0197138130574845, 0.05691590669061583)"
            ]
          },
          "metadata": {},
          "execution_count": 30
        }
      ]
    },
    {
      "cell_type": "code",
      "source": [
        "print(f\"\\n🌊 Evaluating Fine-tuned Chronos on Copernicus data\")\n",
        "entry = to_gluonts_entry(df_test)\n",
        "metrics = evaluate_sea_level_series(entry, pipeline_ft, prediction_length=48)\n",
        "mase = metrics[\"MASE[0.5]\"].item()\n",
        "wql = metrics[\"mean_weighted_sum_quantile_loss\"].item()\n",
        "mase, wql"
      ],
      "metadata": {
        "id": "2N4B4DaDeyn3",
        "colab": {
          "base_uri": "https://localhost:8080/"
        },
        "outputId": "cf88f207-2c6f-46ae-d47f-4c340228d626"
      },
      "execution_count": 31,
      "outputs": [
        {
          "output_type": "stream",
          "name": "stdout",
          "text": [
            "\n",
            "🌊 Evaluating Fine-tuned Chronos on Copernicus data\n"
          ]
        },
        {
          "output_type": "stream",
          "name": "stderr",
          "text": [
            "0it [00:00, ?it/s]/usr/local/lib/python3.11/dist-packages/gluonts/time_feature/seasonality.py:47: FutureWarning: 'M' is deprecated and will be removed in a future version, please use 'ME' instead.\n",
            "  offset = pd.tseries.frequencies.to_offset(freq)\n",
            "1it [00:00, 116.24it/s]\n"
          ]
        },
        {
          "output_type": "execute_result",
          "data": {
            "text/plain": [
              "(38.185377172241964, 0.06552040041730273)"
            ]
          },
          "metadata": {},
          "execution_count": 31
        }
      ]
    },
    {
      "cell_type": "code",
      "source": [
        "print(f\"\\n🌊 Evaluating AutoARIMA on Copernicus data\")\n",
        "metrics = evaluate_with_autoarima(df_test, continuous_year=False)\n",
        "mase = metrics[\"MASE[0.5]\"].item()\n",
        "wql = metrics[\"mean_weighted_sum_quantile_loss\"].item()\n",
        "mase, wql"
      ],
      "metadata": {
        "colab": {
          "base_uri": "https://localhost:8080/"
        },
        "id": "_3Q1Sg7iY8ip",
        "outputId": "54ff9a92-872d-4268-ebca-3b5f79888be4"
      },
      "execution_count": 32,
      "outputs": [
        {
          "output_type": "stream",
          "name": "stdout",
          "text": [
            "\n",
            "🌊 Evaluating AutoARIMA on Copernicus data\n"
          ]
        },
        {
          "output_type": "stream",
          "name": "stderr",
          "text": [
            "1it [00:00, 78.51it/s]\n"
          ]
        },
        {
          "output_type": "execute_result",
          "data": {
            "text/plain": [
              "(1.1686930262041058, 0.00014699662814037623)"
            ]
          },
          "metadata": {},
          "execution_count": 32
        }
      ]
    },
    {
      "cell_type": "markdown",
      "metadata": {
        "id": "p7PsWQIcvcwS"
      },
      "source": [
        "### Comparison of Chronos, AutoARIMA and fine-tuned Chronos methods"
      ]
    },
    {
      "cell_type": "code",
      "execution_count": 33,
      "metadata": {
        "id": "GNV99uopvbes"
      },
      "outputs": [],
      "source": [
        "def compare_mase_wql(\n",
        "    df1: pd.DataFrame,\n",
        "    df2: pd.DataFrame,\n",
        "    delta: float = 0.05,\n",
        "    name_model_1: str = \"model 1\",\n",
        "    name_model_2: str = \"model 2\"\n",
        "):\n",
        "    \"\"\"\n",
        "    Compare MASE and WQL between two DataFrames for each sea,\n",
        "    considering an improvement only if the difference is at least `delta`.\n",
        "\n",
        "    Args:\n",
        "        df1, df2: DataFrames with columns ['sea', 'MASE', 'WQL']\n",
        "        delta: threshold to consider the improvement significant\n",
        "        name_model_1: name of the first model (for display)\n",
        "        name_model_2: name of the second model (for display)\n",
        "    \"\"\"\n",
        "    merged = df1.merge(df2, on='sea', suffixes=('_1', '_2'))\n",
        "\n",
        "    mase_better_1 = mase_better_2 = 0\n",
        "    wql_better_1 = wql_better_2 = 0\n",
        "\n",
        "    for _, row in merged.iterrows():\n",
        "        # MASE: lower is better\n",
        "        if row[\"MASE_1\"] + delta < row[\"MASE_2\"]:\n",
        "            mase_better_1 += 1\n",
        "        elif row[\"MASE_2\"] + delta < row[\"MASE_1\"]:\n",
        "            mase_better_2 += 1\n",
        "\n",
        "        # WQL: lower is better\n",
        "        if row[\"WQL_1\"] + delta < row[\"WQL_2\"]:\n",
        "            wql_better_1 += 1\n",
        "        elif row[\"WQL_2\"] + delta < row[\"WQL_1\"]:\n",
        "            wql_better_2 += 1\n",
        "\n",
        "    print(f\"📉 MASE: {name_model_1} is significantly better in {mase_better_1} seas, \"\n",
        "          f\"{name_model_2} in {mase_better_2}\")\n",
        "    print(f\"📉 WQL: {name_model_1} is significantly better in {wql_better_1} seas, \"\n",
        "          f\"{name_model_2} in {wql_better_2}\")"
      ]
    },
    {
      "cell_type": "code",
      "execution_count": 34,
      "metadata": {
        "colab": {
          "base_uri": "https://localhost:8080/"
        },
        "id": "Kr9NFJW0xbH3",
        "outputId": "b362911b-94c3-4442-89f7-e9af9f9a607f"
      },
      "outputs": [
        {
          "output_type": "stream",
          "name": "stdout",
          "text": [
            "📉 MASE: fine tuned Chronos is significantly better in 15 seas, Chronos in 5\n",
            "📉 WQL: fine tuned Chronos is significantly better in 12 seas, Chronos in 1\n"
          ]
        }
      ],
      "source": [
        "compare_mase_wql(final_chronos_finetuned_df, final_chronos_df, name_model_1 = \"fine tuned Chronos\", name_model_2 = \"Chronos\")"
      ]
    },
    {
      "cell_type": "code",
      "execution_count": 35,
      "metadata": {
        "colab": {
          "base_uri": "https://localhost:8080/"
        },
        "id": "viY1T7tPx1w0",
        "outputId": "794c6859-cd0b-4554-863e-2f0b34a83ef8"
      },
      "outputs": [
        {
          "output_type": "stream",
          "name": "stdout",
          "text": [
            "📉 MASE: fine tuned Chronos is significantly better in 21 seas, AutoARIMA in 1\n",
            "📉 WQL: fine tuned Chronos is significantly better in 15 seas, AutoARIMA in 0\n"
          ]
        }
      ],
      "source": [
        "compare_mase_wql(final_chronos_finetuned_df, final_autoarima_df, name_model_1 = \"fine tuned Chronos\", name_model_2 = \"AutoARIMA\")"
      ]
    },
    {
      "cell_type": "code",
      "execution_count": 36,
      "metadata": {
        "colab": {
          "base_uri": "https://localhost:8080/"
        },
        "id": "lBIyKOa8zSwU",
        "outputId": "fe00b9dc-1d4b-4e5e-b8bf-eccfdf7a05c7"
      },
      "outputs": [
        {
          "output_type": "stream",
          "name": "stdout",
          "text": [
            "📉 MASE: Chronos is significantly better in 20 seas, AutoARIMA in 1\n",
            "📉 WQL: Chronos is significantly better in 11 seas, AutoARIMA in 3\n"
          ]
        }
      ],
      "source": [
        "compare_mase_wql(final_chronos_df, final_autoarima_df, name_model_1 = \"Chronos\", name_model_2 = \"AutoARIMA\")"
      ]
    }
  ],
  "metadata": {
    "accelerator": "GPU",
    "colab": {
      "gpuType": "A100",
      "provenance": [],
      "machine_shape": "hm"
    },
    "kernelspec": {
      "display_name": "Python 3",
      "name": "python3"
    },
    "language_info": {
      "name": "python"
    },
    "widgets": {
      "application/vnd.jupyter.widget-state+json": {
        "dba66dc8ed00434aa7f9cc52dfe56da3": {
          "model_module": "@jupyter-widgets/controls",
          "model_name": "HBoxModel",
          "model_module_version": "1.5.0",
          "state": {
            "_dom_classes": [],
            "_model_module": "@jupyter-widgets/controls",
            "_model_module_version": "1.5.0",
            "_model_name": "HBoxModel",
            "_view_count": null,
            "_view_module": "@jupyter-widgets/controls",
            "_view_module_version": "1.5.0",
            "_view_name": "HBoxView",
            "box_style": "",
            "children": [
              "IPY_MODEL_af41d6a00e534b8ea902f6f85d6c7b63",
              "IPY_MODEL_613c955bdf8847eabf2d9af5b29405bd",
              "IPY_MODEL_3db2f7cf8db64e00bfafd948efe40246"
            ],
            "layout": "IPY_MODEL_ea05a83ebf90497387a7a7d5a350e5dc"
          }
        },
        "af41d6a00e534b8ea902f6f85d6c7b63": {
          "model_module": "@jupyter-widgets/controls",
          "model_name": "HTMLModel",
          "model_module_version": "1.5.0",
          "state": {
            "_dom_classes": [],
            "_model_module": "@jupyter-widgets/controls",
            "_model_module_version": "1.5.0",
            "_model_name": "HTMLModel",
            "_view_count": null,
            "_view_module": "@jupyter-widgets/controls",
            "_view_module_version": "1.5.0",
            "_view_name": "HTMLView",
            "description": "",
            "description_tooltip": null,
            "layout": "IPY_MODEL_a08d3398d58a4561a67c79d416187da0",
            "placeholder": "​",
            "style": "IPY_MODEL_34d88a5659ad4d70a4c259fbe02afc0b",
            "value": "config.json: "
          }
        },
        "613c955bdf8847eabf2d9af5b29405bd": {
          "model_module": "@jupyter-widgets/controls",
          "model_name": "FloatProgressModel",
          "model_module_version": "1.5.0",
          "state": {
            "_dom_classes": [],
            "_model_module": "@jupyter-widgets/controls",
            "_model_module_version": "1.5.0",
            "_model_name": "FloatProgressModel",
            "_view_count": null,
            "_view_module": "@jupyter-widgets/controls",
            "_view_module_version": "1.5.0",
            "_view_name": "ProgressView",
            "bar_style": "success",
            "description": "",
            "description_tooltip": null,
            "layout": "IPY_MODEL_0f54dcb79a6a490db7c88bb6c01ede31",
            "max": 1,
            "min": 0,
            "orientation": "horizontal",
            "style": "IPY_MODEL_98184d8ab0914cc48e5c52bc29944360",
            "value": 1
          }
        },
        "3db2f7cf8db64e00bfafd948efe40246": {
          "model_module": "@jupyter-widgets/controls",
          "model_name": "HTMLModel",
          "model_module_version": "1.5.0",
          "state": {
            "_dom_classes": [],
            "_model_module": "@jupyter-widgets/controls",
            "_model_module_version": "1.5.0",
            "_model_name": "HTMLModel",
            "_view_count": null,
            "_view_module": "@jupyter-widgets/controls",
            "_view_module_version": "1.5.0",
            "_view_name": "HTMLView",
            "description": "",
            "description_tooltip": null,
            "layout": "IPY_MODEL_cd6285e8b9594bebb9fca854e00a3449",
            "placeholder": "​",
            "style": "IPY_MODEL_afbbb2b237f74a2c9455f45a62a6cead",
            "value": " 1.14k/? [00:00&lt;00:00, 126kB/s]"
          }
        },
        "ea05a83ebf90497387a7a7d5a350e5dc": {
          "model_module": "@jupyter-widgets/base",
          "model_name": "LayoutModel",
          "model_module_version": "1.2.0",
          "state": {
            "_model_module": "@jupyter-widgets/base",
            "_model_module_version": "1.2.0",
            "_model_name": "LayoutModel",
            "_view_count": null,
            "_view_module": "@jupyter-widgets/base",
            "_view_module_version": "1.2.0",
            "_view_name": "LayoutView",
            "align_content": null,
            "align_items": null,
            "align_self": null,
            "border": null,
            "bottom": null,
            "display": null,
            "flex": null,
            "flex_flow": null,
            "grid_area": null,
            "grid_auto_columns": null,
            "grid_auto_flow": null,
            "grid_auto_rows": null,
            "grid_column": null,
            "grid_gap": null,
            "grid_row": null,
            "grid_template_areas": null,
            "grid_template_columns": null,
            "grid_template_rows": null,
            "height": null,
            "justify_content": null,
            "justify_items": null,
            "left": null,
            "margin": null,
            "max_height": null,
            "max_width": null,
            "min_height": null,
            "min_width": null,
            "object_fit": null,
            "object_position": null,
            "order": null,
            "overflow": null,
            "overflow_x": null,
            "overflow_y": null,
            "padding": null,
            "right": null,
            "top": null,
            "visibility": null,
            "width": null
          }
        },
        "a08d3398d58a4561a67c79d416187da0": {
          "model_module": "@jupyter-widgets/base",
          "model_name": "LayoutModel",
          "model_module_version": "1.2.0",
          "state": {
            "_model_module": "@jupyter-widgets/base",
            "_model_module_version": "1.2.0",
            "_model_name": "LayoutModel",
            "_view_count": null,
            "_view_module": "@jupyter-widgets/base",
            "_view_module_version": "1.2.0",
            "_view_name": "LayoutView",
            "align_content": null,
            "align_items": null,
            "align_self": null,
            "border": null,
            "bottom": null,
            "display": null,
            "flex": null,
            "flex_flow": null,
            "grid_area": null,
            "grid_auto_columns": null,
            "grid_auto_flow": null,
            "grid_auto_rows": null,
            "grid_column": null,
            "grid_gap": null,
            "grid_row": null,
            "grid_template_areas": null,
            "grid_template_columns": null,
            "grid_template_rows": null,
            "height": null,
            "justify_content": null,
            "justify_items": null,
            "left": null,
            "margin": null,
            "max_height": null,
            "max_width": null,
            "min_height": null,
            "min_width": null,
            "object_fit": null,
            "object_position": null,
            "order": null,
            "overflow": null,
            "overflow_x": null,
            "overflow_y": null,
            "padding": null,
            "right": null,
            "top": null,
            "visibility": null,
            "width": null
          }
        },
        "34d88a5659ad4d70a4c259fbe02afc0b": {
          "model_module": "@jupyter-widgets/controls",
          "model_name": "DescriptionStyleModel",
          "model_module_version": "1.5.0",
          "state": {
            "_model_module": "@jupyter-widgets/controls",
            "_model_module_version": "1.5.0",
            "_model_name": "DescriptionStyleModel",
            "_view_count": null,
            "_view_module": "@jupyter-widgets/base",
            "_view_module_version": "1.2.0",
            "_view_name": "StyleView",
            "description_width": ""
          }
        },
        "0f54dcb79a6a490db7c88bb6c01ede31": {
          "model_module": "@jupyter-widgets/base",
          "model_name": "LayoutModel",
          "model_module_version": "1.2.0",
          "state": {
            "_model_module": "@jupyter-widgets/base",
            "_model_module_version": "1.2.0",
            "_model_name": "LayoutModel",
            "_view_count": null,
            "_view_module": "@jupyter-widgets/base",
            "_view_module_version": "1.2.0",
            "_view_name": "LayoutView",
            "align_content": null,
            "align_items": null,
            "align_self": null,
            "border": null,
            "bottom": null,
            "display": null,
            "flex": null,
            "flex_flow": null,
            "grid_area": null,
            "grid_auto_columns": null,
            "grid_auto_flow": null,
            "grid_auto_rows": null,
            "grid_column": null,
            "grid_gap": null,
            "grid_row": null,
            "grid_template_areas": null,
            "grid_template_columns": null,
            "grid_template_rows": null,
            "height": null,
            "justify_content": null,
            "justify_items": null,
            "left": null,
            "margin": null,
            "max_height": null,
            "max_width": null,
            "min_height": null,
            "min_width": null,
            "object_fit": null,
            "object_position": null,
            "order": null,
            "overflow": null,
            "overflow_x": null,
            "overflow_y": null,
            "padding": null,
            "right": null,
            "top": null,
            "visibility": null,
            "width": "20px"
          }
        },
        "98184d8ab0914cc48e5c52bc29944360": {
          "model_module": "@jupyter-widgets/controls",
          "model_name": "ProgressStyleModel",
          "model_module_version": "1.5.0",
          "state": {
            "_model_module": "@jupyter-widgets/controls",
            "_model_module_version": "1.5.0",
            "_model_name": "ProgressStyleModel",
            "_view_count": null,
            "_view_module": "@jupyter-widgets/base",
            "_view_module_version": "1.2.0",
            "_view_name": "StyleView",
            "bar_color": null,
            "description_width": ""
          }
        },
        "cd6285e8b9594bebb9fca854e00a3449": {
          "model_module": "@jupyter-widgets/base",
          "model_name": "LayoutModel",
          "model_module_version": "1.2.0",
          "state": {
            "_model_module": "@jupyter-widgets/base",
            "_model_module_version": "1.2.0",
            "_model_name": "LayoutModel",
            "_view_count": null,
            "_view_module": "@jupyter-widgets/base",
            "_view_module_version": "1.2.0",
            "_view_name": "LayoutView",
            "align_content": null,
            "align_items": null,
            "align_self": null,
            "border": null,
            "bottom": null,
            "display": null,
            "flex": null,
            "flex_flow": null,
            "grid_area": null,
            "grid_auto_columns": null,
            "grid_auto_flow": null,
            "grid_auto_rows": null,
            "grid_column": null,
            "grid_gap": null,
            "grid_row": null,
            "grid_template_areas": null,
            "grid_template_columns": null,
            "grid_template_rows": null,
            "height": null,
            "justify_content": null,
            "justify_items": null,
            "left": null,
            "margin": null,
            "max_height": null,
            "max_width": null,
            "min_height": null,
            "min_width": null,
            "object_fit": null,
            "object_position": null,
            "order": null,
            "overflow": null,
            "overflow_x": null,
            "overflow_y": null,
            "padding": null,
            "right": null,
            "top": null,
            "visibility": null,
            "width": null
          }
        },
        "afbbb2b237f74a2c9455f45a62a6cead": {
          "model_module": "@jupyter-widgets/controls",
          "model_name": "DescriptionStyleModel",
          "model_module_version": "1.5.0",
          "state": {
            "_model_module": "@jupyter-widgets/controls",
            "_model_module_version": "1.5.0",
            "_model_name": "DescriptionStyleModel",
            "_view_count": null,
            "_view_module": "@jupyter-widgets/base",
            "_view_module_version": "1.2.0",
            "_view_name": "StyleView",
            "description_width": ""
          }
        },
        "ee3431d69dc94ea8a338caf2fed6bb94": {
          "model_module": "@jupyter-widgets/controls",
          "model_name": "HBoxModel",
          "model_module_version": "1.5.0",
          "state": {
            "_dom_classes": [],
            "_model_module": "@jupyter-widgets/controls",
            "_model_module_version": "1.5.0",
            "_model_name": "HBoxModel",
            "_view_count": null,
            "_view_module": "@jupyter-widgets/controls",
            "_view_module_version": "1.5.0",
            "_view_name": "HBoxView",
            "box_style": "",
            "children": [
              "IPY_MODEL_b086222c68b849dfb8399fdc4db0a4b6",
              "IPY_MODEL_a305863f4692418ca4f92b113f395dae",
              "IPY_MODEL_1cb0527da3ec40e680b2c293264d34cc"
            ],
            "layout": "IPY_MODEL_db965a41d8ec4027aafdf880226d1bc1"
          }
        },
        "b086222c68b849dfb8399fdc4db0a4b6": {
          "model_module": "@jupyter-widgets/controls",
          "model_name": "HTMLModel",
          "model_module_version": "1.5.0",
          "state": {
            "_dom_classes": [],
            "_model_module": "@jupyter-widgets/controls",
            "_model_module_version": "1.5.0",
            "_model_name": "HTMLModel",
            "_view_count": null,
            "_view_module": "@jupyter-widgets/controls",
            "_view_module_version": "1.5.0",
            "_view_name": "HTMLView",
            "description": "",
            "description_tooltip": null,
            "layout": "IPY_MODEL_03d4913abf5046f6875f9042f9c4578f",
            "placeholder": "​",
            "style": "IPY_MODEL_493e43ff0e874fb480e5ebcae5134d91",
            "value": "model.safetensors: 100%"
          }
        },
        "a305863f4692418ca4f92b113f395dae": {
          "model_module": "@jupyter-widgets/controls",
          "model_name": "FloatProgressModel",
          "model_module_version": "1.5.0",
          "state": {
            "_dom_classes": [],
            "_model_module": "@jupyter-widgets/controls",
            "_model_module_version": "1.5.0",
            "_model_name": "FloatProgressModel",
            "_view_count": null,
            "_view_module": "@jupyter-widgets/controls",
            "_view_module_version": "1.5.0",
            "_view_name": "ProgressView",
            "bar_style": "success",
            "description": "",
            "description_tooltip": null,
            "layout": "IPY_MODEL_36b25cc10c5e4bc0968396892b374e20",
            "max": 33588440,
            "min": 0,
            "orientation": "horizontal",
            "style": "IPY_MODEL_7b30ee20a97847b98fee4f078451c346",
            "value": 33588440
          }
        },
        "1cb0527da3ec40e680b2c293264d34cc": {
          "model_module": "@jupyter-widgets/controls",
          "model_name": "HTMLModel",
          "model_module_version": "1.5.0",
          "state": {
            "_dom_classes": [],
            "_model_module": "@jupyter-widgets/controls",
            "_model_module_version": "1.5.0",
            "_model_name": "HTMLModel",
            "_view_count": null,
            "_view_module": "@jupyter-widgets/controls",
            "_view_module_version": "1.5.0",
            "_view_name": "HTMLView",
            "description": "",
            "description_tooltip": null,
            "layout": "IPY_MODEL_066fa1c95ec849c49867d89b4715999f",
            "placeholder": "​",
            "style": "IPY_MODEL_796718d2897b4bf5a2b11c29de698c0a",
            "value": " 33.6M/33.6M [00:00&lt;00:00, 262MB/s]"
          }
        },
        "db965a41d8ec4027aafdf880226d1bc1": {
          "model_module": "@jupyter-widgets/base",
          "model_name": "LayoutModel",
          "model_module_version": "1.2.0",
          "state": {
            "_model_module": "@jupyter-widgets/base",
            "_model_module_version": "1.2.0",
            "_model_name": "LayoutModel",
            "_view_count": null,
            "_view_module": "@jupyter-widgets/base",
            "_view_module_version": "1.2.0",
            "_view_name": "LayoutView",
            "align_content": null,
            "align_items": null,
            "align_self": null,
            "border": null,
            "bottom": null,
            "display": null,
            "flex": null,
            "flex_flow": null,
            "grid_area": null,
            "grid_auto_columns": null,
            "grid_auto_flow": null,
            "grid_auto_rows": null,
            "grid_column": null,
            "grid_gap": null,
            "grid_row": null,
            "grid_template_areas": null,
            "grid_template_columns": null,
            "grid_template_rows": null,
            "height": null,
            "justify_content": null,
            "justify_items": null,
            "left": null,
            "margin": null,
            "max_height": null,
            "max_width": null,
            "min_height": null,
            "min_width": null,
            "object_fit": null,
            "object_position": null,
            "order": null,
            "overflow": null,
            "overflow_x": null,
            "overflow_y": null,
            "padding": null,
            "right": null,
            "top": null,
            "visibility": null,
            "width": null
          }
        },
        "03d4913abf5046f6875f9042f9c4578f": {
          "model_module": "@jupyter-widgets/base",
          "model_name": "LayoutModel",
          "model_module_version": "1.2.0",
          "state": {
            "_model_module": "@jupyter-widgets/base",
            "_model_module_version": "1.2.0",
            "_model_name": "LayoutModel",
            "_view_count": null,
            "_view_module": "@jupyter-widgets/base",
            "_view_module_version": "1.2.0",
            "_view_name": "LayoutView",
            "align_content": null,
            "align_items": null,
            "align_self": null,
            "border": null,
            "bottom": null,
            "display": null,
            "flex": null,
            "flex_flow": null,
            "grid_area": null,
            "grid_auto_columns": null,
            "grid_auto_flow": null,
            "grid_auto_rows": null,
            "grid_column": null,
            "grid_gap": null,
            "grid_row": null,
            "grid_template_areas": null,
            "grid_template_columns": null,
            "grid_template_rows": null,
            "height": null,
            "justify_content": null,
            "justify_items": null,
            "left": null,
            "margin": null,
            "max_height": null,
            "max_width": null,
            "min_height": null,
            "min_width": null,
            "object_fit": null,
            "object_position": null,
            "order": null,
            "overflow": null,
            "overflow_x": null,
            "overflow_y": null,
            "padding": null,
            "right": null,
            "top": null,
            "visibility": null,
            "width": null
          }
        },
        "493e43ff0e874fb480e5ebcae5134d91": {
          "model_module": "@jupyter-widgets/controls",
          "model_name": "DescriptionStyleModel",
          "model_module_version": "1.5.0",
          "state": {
            "_model_module": "@jupyter-widgets/controls",
            "_model_module_version": "1.5.0",
            "_model_name": "DescriptionStyleModel",
            "_view_count": null,
            "_view_module": "@jupyter-widgets/base",
            "_view_module_version": "1.2.0",
            "_view_name": "StyleView",
            "description_width": ""
          }
        },
        "36b25cc10c5e4bc0968396892b374e20": {
          "model_module": "@jupyter-widgets/base",
          "model_name": "LayoutModel",
          "model_module_version": "1.2.0",
          "state": {
            "_model_module": "@jupyter-widgets/base",
            "_model_module_version": "1.2.0",
            "_model_name": "LayoutModel",
            "_view_count": null,
            "_view_module": "@jupyter-widgets/base",
            "_view_module_version": "1.2.0",
            "_view_name": "LayoutView",
            "align_content": null,
            "align_items": null,
            "align_self": null,
            "border": null,
            "bottom": null,
            "display": null,
            "flex": null,
            "flex_flow": null,
            "grid_area": null,
            "grid_auto_columns": null,
            "grid_auto_flow": null,
            "grid_auto_rows": null,
            "grid_column": null,
            "grid_gap": null,
            "grid_row": null,
            "grid_template_areas": null,
            "grid_template_columns": null,
            "grid_template_rows": null,
            "height": null,
            "justify_content": null,
            "justify_items": null,
            "left": null,
            "margin": null,
            "max_height": null,
            "max_width": null,
            "min_height": null,
            "min_width": null,
            "object_fit": null,
            "object_position": null,
            "order": null,
            "overflow": null,
            "overflow_x": null,
            "overflow_y": null,
            "padding": null,
            "right": null,
            "top": null,
            "visibility": null,
            "width": null
          }
        },
        "7b30ee20a97847b98fee4f078451c346": {
          "model_module": "@jupyter-widgets/controls",
          "model_name": "ProgressStyleModel",
          "model_module_version": "1.5.0",
          "state": {
            "_model_module": "@jupyter-widgets/controls",
            "_model_module_version": "1.5.0",
            "_model_name": "ProgressStyleModel",
            "_view_count": null,
            "_view_module": "@jupyter-widgets/base",
            "_view_module_version": "1.2.0",
            "_view_name": "StyleView",
            "bar_color": null,
            "description_width": ""
          }
        },
        "066fa1c95ec849c49867d89b4715999f": {
          "model_module": "@jupyter-widgets/base",
          "model_name": "LayoutModel",
          "model_module_version": "1.2.0",
          "state": {
            "_model_module": "@jupyter-widgets/base",
            "_model_module_version": "1.2.0",
            "_model_name": "LayoutModel",
            "_view_count": null,
            "_view_module": "@jupyter-widgets/base",
            "_view_module_version": "1.2.0",
            "_view_name": "LayoutView",
            "align_content": null,
            "align_items": null,
            "align_self": null,
            "border": null,
            "bottom": null,
            "display": null,
            "flex": null,
            "flex_flow": null,
            "grid_area": null,
            "grid_auto_columns": null,
            "grid_auto_flow": null,
            "grid_auto_rows": null,
            "grid_column": null,
            "grid_gap": null,
            "grid_row": null,
            "grid_template_areas": null,
            "grid_template_columns": null,
            "grid_template_rows": null,
            "height": null,
            "justify_content": null,
            "justify_items": null,
            "left": null,
            "margin": null,
            "max_height": null,
            "max_width": null,
            "min_height": null,
            "min_width": null,
            "object_fit": null,
            "object_position": null,
            "order": null,
            "overflow": null,
            "overflow_x": null,
            "overflow_y": null,
            "padding": null,
            "right": null,
            "top": null,
            "visibility": null,
            "width": null
          }
        },
        "796718d2897b4bf5a2b11c29de698c0a": {
          "model_module": "@jupyter-widgets/controls",
          "model_name": "DescriptionStyleModel",
          "model_module_version": "1.5.0",
          "state": {
            "_model_module": "@jupyter-widgets/controls",
            "_model_module_version": "1.5.0",
            "_model_name": "DescriptionStyleModel",
            "_view_count": null,
            "_view_module": "@jupyter-widgets/base",
            "_view_module_version": "1.2.0",
            "_view_name": "StyleView",
            "description_width": ""
          }
        },
        "c065b27a4a3644af82eb8d73749548ce": {
          "model_module": "@jupyter-widgets/controls",
          "model_name": "HBoxModel",
          "model_module_version": "1.5.0",
          "state": {
            "_dom_classes": [],
            "_model_module": "@jupyter-widgets/controls",
            "_model_module_version": "1.5.0",
            "_model_name": "HBoxModel",
            "_view_count": null,
            "_view_module": "@jupyter-widgets/controls",
            "_view_module_version": "1.5.0",
            "_view_name": "HBoxView",
            "box_style": "",
            "children": [
              "IPY_MODEL_034ffbb7e0124f9e905dfc04303229f1",
              "IPY_MODEL_2187252dae3e44dfa67509f1f1f1cda3",
              "IPY_MODEL_6390fa7d8c8c4b7dbe7e4a4a2c317b3c"
            ],
            "layout": "IPY_MODEL_d40fffe55ead422891b894dbca10f645"
          }
        },
        "034ffbb7e0124f9e905dfc04303229f1": {
          "model_module": "@jupyter-widgets/controls",
          "model_name": "HTMLModel",
          "model_module_version": "1.5.0",
          "state": {
            "_dom_classes": [],
            "_model_module": "@jupyter-widgets/controls",
            "_model_module_version": "1.5.0",
            "_model_name": "HTMLModel",
            "_view_count": null,
            "_view_module": "@jupyter-widgets/controls",
            "_view_module_version": "1.5.0",
            "_view_name": "HTMLView",
            "description": "",
            "description_tooltip": null,
            "layout": "IPY_MODEL_11649e2041aa48ecbea2d8c49f779651",
            "placeholder": "​",
            "style": "IPY_MODEL_6765c2b61b9a4a53853a23e072631ca5",
            "value": "generation_config.json: 100%"
          }
        },
        "2187252dae3e44dfa67509f1f1f1cda3": {
          "model_module": "@jupyter-widgets/controls",
          "model_name": "FloatProgressModel",
          "model_module_version": "1.5.0",
          "state": {
            "_dom_classes": [],
            "_model_module": "@jupyter-widgets/controls",
            "_model_module_version": "1.5.0",
            "_model_name": "FloatProgressModel",
            "_view_count": null,
            "_view_module": "@jupyter-widgets/controls",
            "_view_module_version": "1.5.0",
            "_view_name": "ProgressView",
            "bar_style": "success",
            "description": "",
            "description_tooltip": null,
            "layout": "IPY_MODEL_cb09fd3f2eb84f41a8685485d1536f3f",
            "max": 142,
            "min": 0,
            "orientation": "horizontal",
            "style": "IPY_MODEL_468d0d604f2047ee938c212ab94c7ded",
            "value": 142
          }
        },
        "6390fa7d8c8c4b7dbe7e4a4a2c317b3c": {
          "model_module": "@jupyter-widgets/controls",
          "model_name": "HTMLModel",
          "model_module_version": "1.5.0",
          "state": {
            "_dom_classes": [],
            "_model_module": "@jupyter-widgets/controls",
            "_model_module_version": "1.5.0",
            "_model_name": "HTMLModel",
            "_view_count": null,
            "_view_module": "@jupyter-widgets/controls",
            "_view_module_version": "1.5.0",
            "_view_name": "HTMLView",
            "description": "",
            "description_tooltip": null,
            "layout": "IPY_MODEL_b6eff20e24c948378a4d264c5210d0ef",
            "placeholder": "​",
            "style": "IPY_MODEL_fdc62f95ad964fe0a14fb3cc7fdbdbd8",
            "value": " 142/142 [00:00&lt;00:00, 17.6kB/s]"
          }
        },
        "d40fffe55ead422891b894dbca10f645": {
          "model_module": "@jupyter-widgets/base",
          "model_name": "LayoutModel",
          "model_module_version": "1.2.0",
          "state": {
            "_model_module": "@jupyter-widgets/base",
            "_model_module_version": "1.2.0",
            "_model_name": "LayoutModel",
            "_view_count": null,
            "_view_module": "@jupyter-widgets/base",
            "_view_module_version": "1.2.0",
            "_view_name": "LayoutView",
            "align_content": null,
            "align_items": null,
            "align_self": null,
            "border": null,
            "bottom": null,
            "display": null,
            "flex": null,
            "flex_flow": null,
            "grid_area": null,
            "grid_auto_columns": null,
            "grid_auto_flow": null,
            "grid_auto_rows": null,
            "grid_column": null,
            "grid_gap": null,
            "grid_row": null,
            "grid_template_areas": null,
            "grid_template_columns": null,
            "grid_template_rows": null,
            "height": null,
            "justify_content": null,
            "justify_items": null,
            "left": null,
            "margin": null,
            "max_height": null,
            "max_width": null,
            "min_height": null,
            "min_width": null,
            "object_fit": null,
            "object_position": null,
            "order": null,
            "overflow": null,
            "overflow_x": null,
            "overflow_y": null,
            "padding": null,
            "right": null,
            "top": null,
            "visibility": null,
            "width": null
          }
        },
        "11649e2041aa48ecbea2d8c49f779651": {
          "model_module": "@jupyter-widgets/base",
          "model_name": "LayoutModel",
          "model_module_version": "1.2.0",
          "state": {
            "_model_module": "@jupyter-widgets/base",
            "_model_module_version": "1.2.0",
            "_model_name": "LayoutModel",
            "_view_count": null,
            "_view_module": "@jupyter-widgets/base",
            "_view_module_version": "1.2.0",
            "_view_name": "LayoutView",
            "align_content": null,
            "align_items": null,
            "align_self": null,
            "border": null,
            "bottom": null,
            "display": null,
            "flex": null,
            "flex_flow": null,
            "grid_area": null,
            "grid_auto_columns": null,
            "grid_auto_flow": null,
            "grid_auto_rows": null,
            "grid_column": null,
            "grid_gap": null,
            "grid_row": null,
            "grid_template_areas": null,
            "grid_template_columns": null,
            "grid_template_rows": null,
            "height": null,
            "justify_content": null,
            "justify_items": null,
            "left": null,
            "margin": null,
            "max_height": null,
            "max_width": null,
            "min_height": null,
            "min_width": null,
            "object_fit": null,
            "object_position": null,
            "order": null,
            "overflow": null,
            "overflow_x": null,
            "overflow_y": null,
            "padding": null,
            "right": null,
            "top": null,
            "visibility": null,
            "width": null
          }
        },
        "6765c2b61b9a4a53853a23e072631ca5": {
          "model_module": "@jupyter-widgets/controls",
          "model_name": "DescriptionStyleModel",
          "model_module_version": "1.5.0",
          "state": {
            "_model_module": "@jupyter-widgets/controls",
            "_model_module_version": "1.5.0",
            "_model_name": "DescriptionStyleModel",
            "_view_count": null,
            "_view_module": "@jupyter-widgets/base",
            "_view_module_version": "1.2.0",
            "_view_name": "StyleView",
            "description_width": ""
          }
        },
        "cb09fd3f2eb84f41a8685485d1536f3f": {
          "model_module": "@jupyter-widgets/base",
          "model_name": "LayoutModel",
          "model_module_version": "1.2.0",
          "state": {
            "_model_module": "@jupyter-widgets/base",
            "_model_module_version": "1.2.0",
            "_model_name": "LayoutModel",
            "_view_count": null,
            "_view_module": "@jupyter-widgets/base",
            "_view_module_version": "1.2.0",
            "_view_name": "LayoutView",
            "align_content": null,
            "align_items": null,
            "align_self": null,
            "border": null,
            "bottom": null,
            "display": null,
            "flex": null,
            "flex_flow": null,
            "grid_area": null,
            "grid_auto_columns": null,
            "grid_auto_flow": null,
            "grid_auto_rows": null,
            "grid_column": null,
            "grid_gap": null,
            "grid_row": null,
            "grid_template_areas": null,
            "grid_template_columns": null,
            "grid_template_rows": null,
            "height": null,
            "justify_content": null,
            "justify_items": null,
            "left": null,
            "margin": null,
            "max_height": null,
            "max_width": null,
            "min_height": null,
            "min_width": null,
            "object_fit": null,
            "object_position": null,
            "order": null,
            "overflow": null,
            "overflow_x": null,
            "overflow_y": null,
            "padding": null,
            "right": null,
            "top": null,
            "visibility": null,
            "width": null
          }
        },
        "468d0d604f2047ee938c212ab94c7ded": {
          "model_module": "@jupyter-widgets/controls",
          "model_name": "ProgressStyleModel",
          "model_module_version": "1.5.0",
          "state": {
            "_model_module": "@jupyter-widgets/controls",
            "_model_module_version": "1.5.0",
            "_model_name": "ProgressStyleModel",
            "_view_count": null,
            "_view_module": "@jupyter-widgets/base",
            "_view_module_version": "1.2.0",
            "_view_name": "StyleView",
            "bar_color": null,
            "description_width": ""
          }
        },
        "b6eff20e24c948378a4d264c5210d0ef": {
          "model_module": "@jupyter-widgets/base",
          "model_name": "LayoutModel",
          "model_module_version": "1.2.0",
          "state": {
            "_model_module": "@jupyter-widgets/base",
            "_model_module_version": "1.2.0",
            "_model_name": "LayoutModel",
            "_view_count": null,
            "_view_module": "@jupyter-widgets/base",
            "_view_module_version": "1.2.0",
            "_view_name": "LayoutView",
            "align_content": null,
            "align_items": null,
            "align_self": null,
            "border": null,
            "bottom": null,
            "display": null,
            "flex": null,
            "flex_flow": null,
            "grid_area": null,
            "grid_auto_columns": null,
            "grid_auto_flow": null,
            "grid_auto_rows": null,
            "grid_column": null,
            "grid_gap": null,
            "grid_row": null,
            "grid_template_areas": null,
            "grid_template_columns": null,
            "grid_template_rows": null,
            "height": null,
            "justify_content": null,
            "justify_items": null,
            "left": null,
            "margin": null,
            "max_height": null,
            "max_width": null,
            "min_height": null,
            "min_width": null,
            "object_fit": null,
            "object_position": null,
            "order": null,
            "overflow": null,
            "overflow_x": null,
            "overflow_y": null,
            "padding": null,
            "right": null,
            "top": null,
            "visibility": null,
            "width": null
          }
        },
        "fdc62f95ad964fe0a14fb3cc7fdbdbd8": {
          "model_module": "@jupyter-widgets/controls",
          "model_name": "DescriptionStyleModel",
          "model_module_version": "1.5.0",
          "state": {
            "_model_module": "@jupyter-widgets/controls",
            "_model_module_version": "1.5.0",
            "_model_name": "DescriptionStyleModel",
            "_view_count": null,
            "_view_module": "@jupyter-widgets/base",
            "_view_module_version": "1.2.0",
            "_view_name": "StyleView",
            "description_width": ""
          }
        }
      }
    }
  },
  "nbformat": 4,
  "nbformat_minor": 0
}